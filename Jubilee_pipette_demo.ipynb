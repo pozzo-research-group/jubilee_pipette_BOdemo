{
 "cells": [
  {
   "cell_type": "code",
   "execution_count": 1,
   "id": "91561cdc-d769-454b-9e74-61b80f725409",
   "metadata": {},
   "outputs": [],
   "source": [
    "%load_ext autoreload\n",
    "%autoreload 2"
   ]
  },
  {
   "cell_type": "code",
   "execution_count": 2,
   "id": "9c480045-322f-4a91-b0bd-8b8f1641aba2",
   "metadata": {},
   "outputs": [],
   "source": [
    "import sys\n",
    "\n",
    "sys.path.append('/Users/bgpelkie/Code/science_jubilee/')\n",
    "sys.path.append('/Users/bgpelkie/Code/science_jubilee/science_jubilee')\n",
    "sys.path.append('src/')\n",
    "sys.path.append('src/jubilee_pipette_bodemo')\n",
    "#sys.path.append( '../')\n",
    "#sys.path.append('../science_jubilee/')\n",
    "# sys.path.append(\"C:/Users/meryp/Desktop/research/packages/bayesopt/\")\n",
    "\n",
    "from science_jubilee import Machine as Jub\n",
    "from labware.Labware import Labware\n",
    "#from labware.Utils import json2dict, pipette_iterator\n",
    "from tools import Pipette, WebCamera\n",
    "from jubilee_pipette_bodemo import color_match\n",
    "from jubilee_pipette_bodemo import jubilee_protocols\n",
    "\n",
    "\n",
    "import ipywidgets as widgets\n",
    "\n",
    "\n",
    "import numpy as np"
   ]
  },
  {
   "cell_type": "markdown",
   "id": "4a1c164b-e293-4ecb-8e52-0fecea0de49e",
   "metadata": {},
   "source": [
    "## Machine setup and connection"
   ]
  },
  {
   "cell_type": "code",
   "execution_count": 3,
   "id": "75e60f2b-3eb1-4f18-8ebf-b4c515184754",
   "metadata": {},
   "outputs": [
    {
     "name": "stdout",
     "output_type": "stream",
     "text": [
      "Warning: disconnecting this application from the network will halt connection to Jubilee.\n"
     ]
    }
   ],
   "source": [
    "jubilee = Jub.Machine()"
   ]
  },
  {
   "cell_type": "code",
   "execution_count": 4,
   "id": "e8ce2800-20e3-4ca1-9a1c-d1af5d893a01",
   "metadata": {},
   "outputs": [
    {
     "name": "stdout",
     "output_type": "stream",
     "text": [
      "Connection error, sleeping 1 second\n",
      "Connection error, sleeping 1 second\n",
      "Connection error, sleeping 1 second\n"
     ]
    }
   ],
   "source": [
    "jubilee.home_all()"
   ]
  },
  {
   "cell_type": "code",
   "execution_count": 5,
   "id": "8561c7e0-ce80-4922-9285-e2fe3d87786c",
   "metadata": {},
   "outputs": [
    {
     "data": {
      "text/plain": [
       "[-100.0, -98.02, -30.0, -38.11]"
      ]
     },
     "execution_count": 5,
     "metadata": {},
     "output_type": "execute_result"
    }
   ],
   "source": [
    "jubilee.tool_z_offsets"
   ]
  },
  {
   "cell_type": "code",
   "execution_count": 6,
   "id": "90aef057-ac54-4c6e-a848-3b0bd04d2482",
   "metadata": {},
   "outputs": [],
   "source": [
    "jubilee.move_to(z = 115)"
   ]
  },
  {
   "cell_type": "code",
   "execution_count": 7,
   "id": "ff091d6c-f39d-4d06-86c3-134efde65348",
   "metadata": {},
   "outputs": [],
   "source": [
    "deck = jubilee.load_deck('lab_automation_deck.json')\n",
    "tiprack = jubilee.load_labware('opentrons_96_tiprack_300ul.json', 0)\n",
    "samples = jubilee.load_labware('falcon_48_wellplate_1500ul.json', 3)\n",
    "stocks = jubilee.load_labware('20mlscintillation_12_wellplate_18000ul.json', 2)\n",
    "trash = jubilee.load_labware('agilent_1_reservoir_290ml.json', 1)"
   ]
  },
  {
   "cell_type": "code",
   "execution_count": 8,
   "id": "b54d547f-29df-48d5-8ad9-f4fa67208578",
   "metadata": {},
   "outputs": [
    {
     "name": "stdout",
     "output_type": "stream",
     "text": [
      "Pipette tips iterated\n"
     ]
    }
   ],
   "source": [
    "#configure pipette\n",
    "P300 = Pipette.Pipette.from_config(jubilee, 1, 'pipette', 'P300_config.json')\n",
    "jubilee.load_tool(P300)\n",
    "P300.add_tiprack(tiprack)"
   ]
  },
  {
   "cell_type": "code",
   "execution_count": 10,
   "id": "6097c2bf-cd49-4c2f-aa91-defe259b0fda",
   "metadata": {},
   "outputs": [],
   "source": [
    "#configure camera\n",
    "Camera = WebCamera.Camera.from_config(jubilee, 0, 'Camera', 'WebCamera_config.json')\n",
    "jubilee.load_tool(Camera)"
   ]
  },
  {
   "cell_type": "code",
   "execution_count": 25,
   "id": "fdaa53e9-a652-4b55-a6b8-fdd36f076361",
   "metadata": {},
   "outputs": [
    {
     "data": {
      "text/plain": [
       "[-100.0, -98.02, -30.0, -38.11]"
      ]
     },
     "execution_count": 25,
     "metadata": {},
     "output_type": "execute_result"
    }
   ],
   "source": [
    "jubilee.tool_z_offsets"
   ]
  },
  {
   "cell_type": "markdown",
   "id": "378e6929-35c3-4fc8-91d1-b409a81afa42",
   "metadata": {},
   "source": [
    "## Color picking"
   ]
  },
  {
   "cell_type": "code",
   "execution_count": 12,
   "id": "ebee928d-1c50-4227-b92d-41b414aed2d6",
   "metadata": {},
   "outputs": [],
   "source": [
    "a = widgets.ColorPicker(\n",
    "    concise=False,\n",
    "    description='Pick a color',\n",
    "    value='blue',\n",
    "    disabled=False\n",
    ")"
   ]
  },
  {
   "cell_type": "code",
   "execution_count": 14,
   "id": "42e850e1-c45e-4083-b315-659ce0baee91",
   "metadata": {},
   "outputs": [
    {
     "data": {
      "application/vnd.jupyter.widget-view+json": {
       "model_id": "c628a6df3ef54d009351745941aa936e",
       "version_major": 2,
       "version_minor": 0
      },
      "text/plain": [
       "ColorPicker(value='#9b3ff4', description='Pick a color')"
      ]
     },
     "execution_count": 14,
     "metadata": {},
     "output_type": "execute_result"
    }
   ],
   "source": [
    "a"
   ]
  },
  {
   "cell_type": "code",
   "execution_count": 15,
   "id": "4b7e0fa2-c1cb-4240-bcf8-8b5a16167f97",
   "metadata": {},
   "outputs": [],
   "source": [
    "hexcode = a.value"
   ]
  },
  {
   "cell_type": "code",
   "execution_count": 16,
   "id": "2cc95b0d-585c-4c3b-a400-13bf2994be0b",
   "metadata": {},
   "outputs": [],
   "source": [
    "target_rgb = tuple(int(hexcode.lstrip('#')[i:i+2], 16) for i in (0,2,4))"
   ]
  },
  {
   "cell_type": "code",
   "execution_count": 17,
   "id": "b2e27207-30de-4edd-91ed-70744c0e63f0",
   "metadata": {},
   "outputs": [
    {
     "data": {
      "text/plain": [
       "(155, 63, 244)"
      ]
     },
     "execution_count": 17,
     "metadata": {},
     "output_type": "execute_result"
    }
   ],
   "source": [
    "target_rgb"
   ]
  },
  {
   "cell_type": "markdown",
   "id": "8afbb8e0-c860-4529-ab15-688f72204b96",
   "metadata": {},
   "source": [
    "## Set up things for demo"
   ]
  },
  {
   "cell_type": "code",
   "execution_count": 19,
   "id": "ef2bae22-afac-4d1d-bd11-cb16d560079f",
   "metadata": {},
   "outputs": [],
   "source": [
    "red_stock = stocks[2]\n",
    "yellow_stock = stocks[1]\n",
    "blue_stock = stocks[0]\n",
    "trash_well = trash[0]"
   ]
  },
  {
   "cell_type": "markdown",
   "id": "48b8fa7c-45f1-49ac-bd49-4c45b6e64d91",
   "metadata": {},
   "source": [
    "## Get initial data"
   ]
  },
  {
   "cell_type": "code",
   "execution_count": 58,
   "id": "3ba5bc5d-1fbc-4ab9-8d7f-1e1db99d6f5f",
   "metadata": {},
   "outputs": [
    {
     "data": {
      "text/plain": [
       "20.19"
      ]
     },
     "execution_count": 58,
     "metadata": {},
     "output_type": "execute_result"
    }
   ],
   "source": [
    "P300.current_well.top"
   ]
  },
  {
   "cell_type": "code",
   "execution_count": 59,
   "id": "aee30c7f-b731-44a5-89a1-2f4fec3d4b41",
   "metadata": {
    "scrolled": true
   },
   "outputs": [],
   "source": [
    "P300.pickup_tip()"
   ]
  },
  {
   "cell_type": "code",
   "execution_count": 49,
   "id": "d1f3df9d-7648-4795-ac5b-94706de5e63d",
   "metadata": {},
   "outputs": [],
   "source": [
    "jubilee.move(dz = 50)"
   ]
  },
  {
   "cell_type": "code",
   "execution_count": 69,
   "id": "d91e1a1d-382e-41f6-a9a5-c8542c709f3f",
   "metadata": {},
   "outputs": [
    {
     "name": "stdout",
     "output_type": "stream",
     "text": [
      "Connection error, sleeping 1 second\n"
     ]
    }
   ],
   "source": [
    "P300.mix(250, 2)\n",
    "# jubilee.move(dz = 2)\n",
    "# P300.mix(100, 2)\n",
    "# jubilee.move(dz = -2)\n",
    "# P300.mix(100, 2)"
   ]
  },
  {
   "cell_type": "code",
   "execution_count": 60,
   "id": "38a6df4e-24f6-4d97-a8a8-b98d2e9647e1",
   "metadata": {},
   "outputs": [],
   "source": [
    "jubilee.move_to(x = samples[0].x, y = samples[0].y)"
   ]
  },
  {
   "cell_type": "code",
   "execution_count": 61,
   "id": "4afa82a7-cf00-4b24-ba6c-27acd3872d8e",
   "metadata": {},
   "outputs": [],
   "source": [
    "jubilee.move_to(z = samples[0].z + 3)"
   ]
  },
  {
   "cell_type": "code",
   "execution_count": 20,
   "id": "184e9eeb-8e17-439c-8f46-9aa7133e05ee",
   "metadata": {},
   "outputs": [],
   "source": [
    "sample_space = color_match.get_constrained_points(101)"
   ]
  },
  {
   "cell_type": "code",
   "execution_count": null,
   "id": "ae2f5f24-6370-4d2d-a22b-a990261f14ee",
   "metadata": {},
   "outputs": [],
   "source": []
  },
  {
   "cell_type": "code",
   "execution_count": 71,
   "id": "6a1d733f-691f-4567-b3b9-12f3f4e2ae1d",
   "metadata": {},
   "outputs": [],
   "source": [
    "n_init_points = 1\n",
    "sampled_indices = np.random.randint(0, len(sample_space), size = n_init_points)\n",
    "sampled_points = sample_space[sampled_indices]"
   ]
  },
  {
   "cell_type": "code",
   "execution_count": 72,
   "id": "71ec44be-a950-4a55-8408-3f916ab1e570",
   "metadata": {},
   "outputs": [
    {
     "name": "stdout",
     "output_type": "stream",
     "text": [
      "creating sample\n",
      "[0.43 0.3  0.27]\n",
      "Well(name='A1', depth=17.78, totalLiquidVolume=1500, shape='circular', diameter=10.38, xDimension=None, yDimension=None, x=174.5, y=180.67000000000002, z=2.41, offset=[155.6, 104.7])\n",
      "Start of sample sequence position:  {'X': '219.680', 'Y': '50.680', 'Z': '136.320', 'U': '0.000', 'V': '310.000', 'E': '0.000'}\n",
      "Calculated volumes:  [107.5, 75.0, 67.5]\n",
      "Connection error, sleeping 1 second\n",
      "Connection error, sleeping 1 second\n",
      "Connection error, sleeping 1 second\n",
      "Connection error, sleeping 1 second\n",
      "Connection error, sleeping 1 second\n",
      "Pipette tips iterated\n",
      "Connection error, sleeping 1 second\n"
     ]
    }
   ],
   "source": [
    "rgb_vals = []\n",
    "for i in range(len(sampled_points)):\n",
    "    point = sampled_points[i,:]\n",
    "    well = samples[i]\n",
    "    print('creating sample')\n",
    "    print(point)\n",
    "    print(well)\n",
    "    \n",
    "    RGB = jubilee_protocols.sample_point(jubilee, P300, Camera, point, 250, well, red_stock, yellow_stock, blue_stock, trash_well)\n",
    "    rgb_vals.append(RGB)"
   ]
  },
  {
   "cell_type": "code",
   "execution_count": 70,
   "id": "38e03172-ef0c-41ed-ae7f-12bf5112d5c9",
   "metadata": {},
   "outputs": [
    {
     "name": "stdout",
     "output_type": "stream",
     "text": [
      "Connection error, sleeping 1 second\n",
      "Pipette tips iterated\n"
     ]
    }
   ],
   "source": [
    "P300.drop_tip(trash_well)"
   ]
  },
  {
   "cell_type": "code",
   "execution_count": 25,
   "id": "8a4354fa-7547-4626-bb95-f3a263d03138",
   "metadata": {},
   "outputs": [],
   "source": [
    "jubilee.park_tool()"
   ]
  },
  {
   "cell_type": "code",
   "execution_count": 25,
   "id": "d8cd3470-1654-43e9-b565-6778ca4f1000",
   "metadata": {},
   "outputs": [],
   "source": [
    "image = Camera.capture_image(samples[0])"
   ]
  },
  {
   "cell_type": "code",
   "execution_count": 28,
   "id": "00056f6d-8912-48a8-b845-fde4fab69f0d",
   "metadata": {},
   "outputs": [
    {
     "data": {
      "image/png": "[encoded data removed]",
      "text/plain": [
       "<Figure size 300x400 with 1 Axes>"
      ]
     },
     "metadata": {},
     "output_type": "display_data"
    }
   ],
   "source": [
    "Camera.view_image(image, masked= True)"
   ]
  },
  {
   "cell_type": "code",
   "execution_count": 17,
   "id": "6fc8cd6b-63cd-4f1d-a844-5bfdafb5d5b0",
   "metadata": {},
   "outputs": [],
   "source": [
    "jubilee.move(dz = -5)"
   ]
  },
  {
   "cell_type": "code",
   "execution_count": 25,
   "id": "eb12c282-498b-49c5-8a48-b09ca9bb902c",
   "metadata": {},
   "outputs": [
    {
     "data": {
      "text/plain": [
       "'X:64.640 Y:175.290 Z:12.500 U:0.000 V:310.000 E:0.000 Count 38566 -13750 259883 0 62000 Machine 62.040 130.790 162.350 0.000 310.000 Bed comp 0.077\\n'"
      ]
     },
     "execution_count": 25,
     "metadata": {},
     "output_type": "execute_result"
    }
   ],
   "source": [
    "jubilee.gcode('M114')"
   ]
  },
  {
   "cell_type": "code",
   "execution_count": 21,
   "id": "7b42a858-13ea-496c-b80d-76f0649acb7c",
   "metadata": {},
   "outputs": [],
   "source": [
    "red_thing = None"
   ]
  },
  {
   "cell_type": "code",
   "execution_count": 22,
   "id": "861f9a40-3537-46a8-aaca-5dea202d9d94",
   "metadata": {},
   "outputs": [
    {
     "data": {
      "text/plain": [
       "True"
      ]
     },
     "execution_count": 22,
     "metadata": {},
     "output_type": "execute_result"
    }
   ],
   "source": [
    "red_thing is None"
   ]
  },
  {
   "cell_type": "code",
   "execution_count": null,
   "id": "70834a9d-c104-4cd2-9c78-666a90641dd5",
   "metadata": {},
   "outputs": [],
   "source": []
  }
 ],
 "metadata": {
  "kernelspec": {
   "display_name": "Python 3 (ipykernel)",
   "language": "python",
   "name": "python3"
  },
  "language_info": {
   "codemirror_mode": {
    "name": "ipython",
    "version": 3
   },
   "file_extension": ".py",
   "mimetype": "text/x-python",
   "name": "python",
   "nbconvert_exporter": "python",
   "pygments_lexer": "ipython3",
   "version": "3.9.16"
  }
 },
 "nbformat": 4,
 "nbformat_minor": 5
}
