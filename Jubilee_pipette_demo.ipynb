{
 "cells": [
  {
   "cell_type": "code",
   "execution_count": 1,
   "id": "91561cdc-d769-454b-9e74-61b80f725409",
   "metadata": {},
   "outputs": [],
   "source": [
    "%load_ext autoreload\n",
    "%autoreload 2"
   ]
  },
  {
   "cell_type": "code",
   "execution_count": 2,
   "id": "9c480045-322f-4a91-b0bd-8b8f1641aba2",
   "metadata": {},
   "outputs": [],
   "source": [
    "import sys\n",
    "\n",
    "sys.path.append('/Users/bgpelkie/Code/science_jubilee/')\n",
    "sys.path.append('/Users/bgpelkie/Code/science_jubilee/science_jubilee')\n",
    "sys.path.append('src/')\n",
    "sys.path.append('src/jubilee_pipette_bodemo')\n",
    "#sys.path.append( '../')\n",
    "#sys.path.append('../science_jubilee/')\n",
    "# sys.path.append(\"C:/Users/meryp/Desktop/research/packages/bayesopt/\")\n",
    "\n",
    "from science_jubilee import Machine as Jub\n",
    "from labware.Labware import Labware\n",
    "#from labware.Utils import json2dict, pipette_iterator\n",
    "from tools import Pipette, WebCamera\n",
    "from jubilee_pipette_bodemo import color_match\n",
    "from jubilee_pipette_bodemo import jubilee_protocols\n",
    "\n",
    "\n",
    "import ipywidgets as widgets\n",
    "\n",
    "\n",
    "import numpy as np"
   ]
  },
  {
   "cell_type": "markdown",
   "id": "4a1c164b-e293-4ecb-8e52-0fecea0de49e",
   "metadata": {},
   "source": [
    "## Machine setup and connection"
   ]
  },
  {
   "cell_type": "code",
   "execution_count": 3,
   "id": "75e60f2b-3eb1-4f18-8ebf-b4c515184754",
   "metadata": {},
   "outputs": [
    {
     "name": "stdout",
     "output_type": "stream",
     "text": [
      "Warning: disconnecting this application from the network will halt connection to Jubilee.\n"
     ]
    }
   ],
   "source": [
    "jubilee = Jub.Machine()"
   ]
  },
  {
   "cell_type": "code",
   "execution_count": 4,
   "id": "e8ce2800-20e3-4ca1-9a1c-d1af5d893a01",
   "metadata": {},
   "outputs": [],
   "source": [
    "jubilee.home_all()"
   ]
  },
  {
   "cell_type": "code",
   "execution_count": 6,
   "id": "90aef057-ac54-4c6e-a848-3b0bd04d2482",
   "metadata": {},
   "outputs": [],
   "source": [
    "jubilee.move(dz = 115)"
   ]
  },
  {
   "cell_type": "code",
   "execution_count": 7,
   "id": "ff091d6c-f39d-4d06-86c3-134efde65348",
   "metadata": {},
   "outputs": [],
   "source": [
    "deck = jubilee.load_deck('lab_automation_deck.json')\n",
    "tiprack = jubilee.load_labware('opentrons_96_tiprack_300ul.json', 0)\n",
    "samples = jubilee.load_labware('falcon_48_wellplate_1500ul.json', 3)\n",
    "stocks = jubilee.load_labware('20mlscintillation_12_wellplate_18000ul.json', 2)\n",
    "trash = jubilee.load_labware('agilent_1_reservoir_290ml.json', 1)"
   ]
  },
  {
   "cell_type": "code",
   "execution_count": 8,
   "id": "b54d547f-29df-48d5-8ad9-f4fa67208578",
   "metadata": {},
   "outputs": [],
   "source": [
    "#configure pipette\n",
    "P300 = Pipette.Pipette.from_config(jubilee, 1, 'pipette', 'P300_config.json')\n",
    "jubilee.load_tool(P300)\n",
    "P300.add_tiprack(tiprack)"
   ]
  },
  {
   "cell_type": "code",
   "execution_count": 9,
   "id": "6097c2bf-cd49-4c2f-aa91-defe259b0fda",
   "metadata": {},
   "outputs": [],
   "source": [
    "#configure camera\n",
    "Camera = WebCamera.Camera.from_config(jubilee, 0, 'Camera', 'WebCamera_config.json')\n",
    "jubilee.load_tool(Camera)"
   ]
  },
  {
   "cell_type": "markdown",
   "id": "378e6929-35c3-4fc8-91d1-b409a81afa42",
   "metadata": {},
   "source": [
    "## Color picking"
   ]
  },
  {
   "cell_type": "code",
   "execution_count": 10,
   "id": "ebee928d-1c50-4227-b92d-41b414aed2d6",
   "metadata": {},
   "outputs": [],
   "source": [
    "a = widgets.ColorPicker(\n",
    "    concise=False,\n",
    "    description='Pick a color',\n",
    "    value='blue',\n",
    "    disabled=False\n",
    ")"
   ]
  },
  {
   "cell_type": "code",
   "execution_count": 11,
   "id": "42e850e1-c45e-4083-b315-659ce0baee91",
   "metadata": {},
   "outputs": [
    {
     "data": {
      "application/vnd.jupyter.widget-view+json": {
       "model_id": "7daf7baef55d48f684aa6e5464d9168a",
       "version_major": 2,
       "version_minor": 0
      },
      "text/plain": [
       "ColorPicker(value='blue', description='Pick a color')"
      ]
     },
     "execution_count": 11,
     "metadata": {},
     "output_type": "execute_result"
    }
   ],
   "source": [
    "a"
   ]
  },
  {
   "cell_type": "code",
   "execution_count": 14,
   "id": "4b7e0fa2-c1cb-4240-bcf8-8b5a16167f97",
   "metadata": {},
   "outputs": [],
   "source": [
    "hexcode = a.value"
   ]
  },
  {
   "cell_type": "code",
   "execution_count": 15,
   "id": "2cc95b0d-585c-4c3b-a400-13bf2994be0b",
   "metadata": {},
   "outputs": [],
   "source": [
    "target_rgb = tuple(int(hexcode.lstrip('#')[i:i+2], 16) for i in (0,2,4))"
   ]
  },
  {
   "cell_type": "code",
   "execution_count": 16,
   "id": "b2e27207-30de-4edd-91ed-70744c0e63f0",
   "metadata": {},
   "outputs": [
    {
     "data": {
      "text/plain": [
       "(69, 110, 244)"
      ]
     },
     "execution_count": 16,
     "metadata": {},
     "output_type": "execute_result"
    }
   ],
   "source": [
    "target_rgb"
   ]
  },
  {
   "cell_type": "markdown",
   "id": "8afbb8e0-c860-4529-ab15-688f72204b96",
   "metadata": {},
   "source": [
    "## Set up things for demo"
   ]
  },
  {
   "cell_type": "code",
   "execution_count": 17,
   "id": "ef2bae22-afac-4d1d-bd11-cb16d560079f",
   "metadata": {},
   "outputs": [],
   "source": [
    "red_stock = stocks[2]\n",
    "yellow_stock = stocks[1]\n",
    "blue_stock = stocks[0]\n",
    "trash_well = trash[0]\n",
    "\n",
    "\n"
   ]
  },
  {
   "cell_type": "markdown",
   "id": "48b8fa7c-45f1-49ac-bd49-4c45b6e64d91",
   "metadata": {},
   "source": [
    "## Get initial data"
   ]
  },
  {
   "cell_type": "code",
   "execution_count": 18,
   "id": "184e9eeb-8e17-439c-8f46-9aa7133e05ee",
   "metadata": {},
   "outputs": [],
   "source": [
    "sample_space = color_match.get_constrained_points(101)"
   ]
  },
  {
   "cell_type": "code",
   "execution_count": 19,
   "id": "6a1d733f-691f-4567-b3b9-12f3f4e2ae1d",
   "metadata": {},
   "outputs": [],
   "source": [
    "n_init_points = 12\n",
    "sampled_indices = np.random.randint(0, len(sample_space), size = n_init_points)\n",
    "sampled_points = sample_space[sampled_indices]"
   ]
  },
  {
   "cell_type": "code",
   "execution_count": 27,
   "id": "71ec44be-a950-4a55-8408-3f916ab1e570",
   "metadata": {},
   "outputs": [
    {
     "name": "stdout",
     "output_type": "stream",
     "text": [
      "creating sample\n",
      "[0.36 0.54 0.1 ]\n",
      "Well(name='A1', depth=17.78, totalLiquidVolume=1500, shape='circular', diameter=10.38, xDimension=None, yDimension=None, x=174.5, y=180.67000000000002, z=2.41, offset=[155.6, 104.7])\n",
      "dispense dv:  177.60330578512392\n",
      "dispense dv:  132.97520661157023\n",
      "dispense dv:  132.97520661157023\n",
      "dispense dv:  48.67768595041321\n"
     ]
    },
    {
     "ename": "AttributeError",
     "evalue": "'Pipette' object has no attribute 'vol2mov'",
     "output_type": "error",
     "traceback": [
      "\u001b[0;31m---------------------------------------------------------------------------\u001b[0m",
      "\u001b[0;31mAttributeError\u001b[0m                            Traceback (most recent call last)",
      "Cell \u001b[0;32mIn[27], line 9\u001b[0m\n\u001b[1;32m      6\u001b[0m \u001b[38;5;28mprint\u001b[39m(point)\n\u001b[1;32m      7\u001b[0m \u001b[38;5;28mprint\u001b[39m(well)\n\u001b[0;32m----> 9\u001b[0m RGB \u001b[38;5;241m=\u001b[39m \u001b[43mjubilee_protocols\u001b[49m\u001b[38;5;241;43m.\u001b[39;49m\u001b[43msample_point\u001b[49m\u001b[43m(\u001b[49m\u001b[43mjubilee\u001b[49m\u001b[43m,\u001b[49m\u001b[43m \u001b[49m\u001b[43mP300\u001b[49m\u001b[43m,\u001b[49m\u001b[43m \u001b[49m\u001b[43mCamera\u001b[49m\u001b[43m,\u001b[49m\u001b[43m \u001b[49m\u001b[43mpoint\u001b[49m\u001b[43m,\u001b[49m\u001b[43m \u001b[49m\u001b[38;5;241;43m600\u001b[39;49m\u001b[43m,\u001b[49m\u001b[43m \u001b[49m\u001b[43mwell\u001b[49m\u001b[43m,\u001b[49m\u001b[43m \u001b[49m\u001b[43mred_stock\u001b[49m\u001b[43m,\u001b[49m\u001b[43m \u001b[49m\u001b[43myellow_stock\u001b[49m\u001b[43m,\u001b[49m\u001b[43m \u001b[49m\u001b[43mblue_stock\u001b[49m\u001b[43m,\u001b[49m\u001b[43m \u001b[49m\u001b[43mtrash_well\u001b[49m\u001b[43m)\u001b[49m\n\u001b[1;32m     10\u001b[0m rgb_vals\u001b[38;5;241m.\u001b[39mappend(RGB)\n",
      "File \u001b[0;32m~/Code/jubilee_pipette_BOdemo/src/jubilee_pipette_bodemo/jubilee_protocols.py:127\u001b[0m, in \u001b[0;36msample_point\u001b[0;34m(jubilee, pipette, Camera, RYB, volume, well, red_stock, yellow_stock, blue_stock, trash_well)\u001b[0m\n\u001b[1;32m    125\u001b[0m pipette\u001b[38;5;241m.\u001b[39mpickup_tip()\n\u001b[1;32m    126\u001b[0m \u001b[38;5;66;03m# aspirate, dispense\u001b[39;00m\n\u001b[0;32m--> 127\u001b[0m \u001b[43mpipette\u001b[49m\u001b[38;5;241;43m.\u001b[39;49m\u001b[43mtransfer\u001b[49m\u001b[43m(\u001b[49m\u001b[43mvolumes\u001b[49m\u001b[43m[\u001b[49m\u001b[38;5;241;43m2\u001b[39;49m\u001b[43m]\u001b[49m\u001b[43m,\u001b[49m\u001b[43m \u001b[49m\u001b[43mblue_stock\u001b[49m\u001b[43m,\u001b[49m\u001b[43m \u001b[49m\u001b[43mwell\u001b[49m\u001b[43m,\u001b[49m\u001b[43m \u001b[49m\u001b[43mmix_after\u001b[49m\u001b[43m \u001b[49m\u001b[38;5;241;43m=\u001b[39;49m\u001b[43m \u001b[49m\u001b[43m(\u001b[49m\u001b[38;5;241;43m300\u001b[39;49m\u001b[43m,\u001b[49m\u001b[43m \u001b[49m\u001b[38;5;241;43m3\u001b[39;49m\u001b[43m)\u001b[49m\u001b[43m)\u001b[49m\n\u001b[1;32m    128\u001b[0m \u001b[38;5;66;03m# discard tip \u001b[39;00m\n\u001b[1;32m    129\u001b[0m pipette\u001b[38;5;241m.\u001b[39mdrop_tip(trash_well)\n",
      "File \u001b[0;32m~/Code/science_jubilee/science_jubilee/tools/Pipette.py:204\u001b[0m, in \u001b[0;36mPipette.transfer\u001b[0;34m(self, vol, source_well, destination_well, s, blowout, mix_before, mix_after, new_tip)\u001b[0m\n\u001b[1;32m    201\u001b[0m \u001b[38;5;28mself\u001b[39m\u001b[38;5;241m.\u001b[39m_dispense(vol_, s\u001b[38;5;241m=\u001b[39ms)\n\u001b[1;32m    203\u001b[0m \u001b[38;5;28;01mif\u001b[39;00m mix_after:\n\u001b[0;32m--> 204\u001b[0m     \u001b[38;5;28;43mself\u001b[39;49m\u001b[38;5;241;43m.\u001b[39;49m\u001b[43mmix\u001b[49m\u001b[43m(\u001b[49m\u001b[43mmix_after\u001b[49m\u001b[43m[\u001b[49m\u001b[38;5;241;43m0\u001b[39;49m\u001b[43m]\u001b[49m\u001b[43m,\u001b[49m\u001b[43m \u001b[49m\u001b[43mmix_after\u001b[49m\u001b[43m[\u001b[49m\u001b[38;5;241;43m1\u001b[39;49m\u001b[43m]\u001b[49m\u001b[43m)\u001b[49m \n\u001b[1;32m    205\u001b[0m \u001b[38;5;28;01melse\u001b[39;00m:\n\u001b[1;32m    206\u001b[0m     \u001b[38;5;28;01mpass\u001b[39;00m\n",
      "File \u001b[0;32m~/Code/science_jubilee/science_jubilee/tools/Pipette.py:237\u001b[0m, in \u001b[0;36mPipette.mix\u001b[0;34m(self, vol, n, s)\u001b[0m\n\u001b[1;32m    235\u001b[0m \u001b[38;5;28;01mdef\u001b[39;00m \u001b[38;5;21mmix\u001b[39m(\u001b[38;5;28mself\u001b[39m, vol: \u001b[38;5;28mfloat\u001b[39m, n: \u001b[38;5;28mint\u001b[39m, s: \u001b[38;5;28mint\u001b[39m \u001b[38;5;241m=\u001b[39m\u001b[38;5;241m2000\u001b[39m):\n\u001b[0;32m--> 237\u001b[0m     v \u001b[38;5;241m=\u001b[39m \u001b[38;5;28;43mself\u001b[39;49m\u001b[38;5;241;43m.\u001b[39;49m\u001b[43mvol2mov\u001b[49m(vol)\u001b[38;5;241m*\u001b[39m\u001b[38;5;241m-\u001b[39m\u001b[38;5;241m1\u001b[39m\n\u001b[1;32m    239\u001b[0m     \u001b[38;5;28mself\u001b[39m\u001b[38;5;241m.\u001b[39m_machine\u001b[38;5;241m.\u001b[39mmove(z\u001b[38;5;241m=\u001b[39m \u001b[38;5;241m-\u001b[39m\u001b[38;5;241m5\u001b[39m) \n\u001b[1;32m    240\u001b[0m     \u001b[38;5;28;01mfor\u001b[39;00m i \u001b[38;5;129;01min\u001b[39;00m \u001b[38;5;28mrange\u001b[39m(\u001b[38;5;241m0\u001b[39m,n):\n",
      "\u001b[0;31mAttributeError\u001b[0m: 'Pipette' object has no attribute 'vol2mov'"
     ]
    }
   ],
   "source": [
    "rgb_vals = []\n",
    "for i in range(len(sampled_points)):\n",
    "    point = sampled_points[i,:]\n",
    "    well = samples[i]\n",
    "    print('creating sample')\n",
    "    print(point)\n",
    "    print(well)\n",
    "    \n",
    "    RGB = jubilee_protocols.sample_point(jubilee, P300, Camera, point, 600, well, red_stock, yellow_stock, blue_stock, trash_well)\n",
    "    rgb_vals.append(RGB)"
   ]
  },
  {
   "cell_type": "code",
   "execution_count": 26,
   "id": "38e03172-ef0c-41ed-ae7f-12bf5112d5c9",
   "metadata": {},
   "outputs": [],
   "source": [
    "P300.drop_tip(trash_well)"
   ]
  },
  {
   "cell_type": "code",
   "execution_count": 25,
   "id": "eb12c282-498b-49c5-8a48-b09ca9bb902c",
   "metadata": {},
   "outputs": [
    {
     "data": {
      "text/plain": [
       "'X:64.640 Y:175.290 Z:12.500 U:0.000 V:310.000 E:0.000 Count 38566 -13750 259883 0 62000 Machine 62.040 130.790 162.350 0.000 310.000 Bed comp 0.077\\n'"
      ]
     },
     "execution_count": 25,
     "metadata": {},
     "output_type": "execute_result"
    }
   ],
   "source": [
    "jubilee.gcode('M114')"
   ]
  },
  {
   "cell_type": "code",
   "execution_count": 21,
   "id": "7b42a858-13ea-496c-b80d-76f0649acb7c",
   "metadata": {},
   "outputs": [],
   "source": [
    "red_thing = None"
   ]
  },
  {
   "cell_type": "code",
   "execution_count": 22,
   "id": "861f9a40-3537-46a8-aaca-5dea202d9d94",
   "metadata": {},
   "outputs": [
    {
     "data": {
      "text/plain": [
       "True"
      ]
     },
     "execution_count": 22,
     "metadata": {},
     "output_type": "execute_result"
    }
   ],
   "source": [
    "red_thing is None"
   ]
  },
  {
   "cell_type": "code",
   "execution_count": null,
   "id": "70834a9d-c104-4cd2-9c78-666a90641dd5",
   "metadata": {},
   "outputs": [],
   "source": []
  }
 ],
 "metadata": {
  "kernelspec": {
   "display_name": "Python 3 (ipykernel)",
   "language": "python",
   "name": "python3"
  },
  "language_info": {
   "codemirror_mode": {
    "name": "ipython",
    "version": 3
   },
   "file_extension": ".py",
   "mimetype": "text/x-python",
   "name": "python",
   "nbconvert_exporter": "python",
   "pygments_lexer": "ipython3",
   "version": "3.9.16"
  }
 },
 "nbformat": 4,
 "nbformat_minor": 5
}
