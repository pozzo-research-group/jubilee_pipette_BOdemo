{
 "cells": [
  {
   "cell_type": "code",
   "execution_count": 1,
   "id": "91561cdc-d769-454b-9e74-61b80f725409",
   "metadata": {},
   "outputs": [],
   "source": [
    "%load_ext autoreload\n",
    "%autoreload 2"
   ]
  },
  {
   "cell_type": "code",
   "execution_count": 3,
   "id": "9c480045-322f-4a91-b0bd-8b8f1641aba2",
   "metadata": {},
   "outputs": [],
   "source": [
    "import sys\n",
    "\n",
    "sys.path.append('/Users/bgpelkie/Code/science_jubilee_machineAgency/')\n",
    "sys.path.append('/Users/bgpelkie/Code/science_jubilee_machineAgency/science_jubilee')\n",
    "#sys.path.append( '../')\n",
    "#sys.path.append('../science_jubilee/')\n",
    "# sys.path.append(\"C:/Users/meryp/Desktop/research/packages/bayesopt/\")\n",
    "\n",
    "from science_jubilee import Machine as Jub\n",
    "from labware.Labware import Labware\n",
    "from labware.Utils import json2dict, pipette_iterator\n",
    "from tools import Pipette, WebCamera\n",
    "\n",
    "import ipywidgets as widgets"
   ]
  },
  {
   "cell_type": "markdown",
   "id": "4a1c164b-e293-4ecb-8e52-0fecea0de49e",
   "metadata": {},
   "source": [
    "## Machine setup and connection"
   ]
  },
  {
   "cell_type": "code",
   "execution_count": null,
   "id": "75e60f2b-3eb1-4f18-8ebf-b4c515184754",
   "metadata": {},
   "outputs": [],
   "source": [
    "jubilee = Jub.Machine(simulated = True)"
   ]
  },
  {
   "cell_type": "code",
   "execution_count": null,
   "id": "e8ce2800-20e3-4ca1-9a1c-d1af5d893a01",
   "metadata": {},
   "outputs": [],
   "source": [
    "jubilee.home_all()"
   ]
  },
  {
   "cell_type": "code",
   "execution_count": null,
   "id": "ff091d6c-f39d-4d06-86c3-134efde65348",
   "metadata": {},
   "outputs": [],
   "source": [
    "deck = jubilee.load_deck('lab_automation_deck.json')\n",
    "tiprack = jubilee.load_labware('opentrons_96_tiprack_300ul.json', 0)\n",
    "samples = jubilee.load_labware('falcon_48_wellplate_1500ul.json', 3)\n",
    "stocks = jubilee.load_labware('20mlscintillation_12_wellplate_18000ul.json', 2)\n",
    "trash = jubilee.load_labware('agilent_1_reservoir_290ml.json', 1)"
   ]
  },
  {
   "cell_type": "code",
   "execution_count": null,
   "id": "b54d547f-29df-48d5-8ad9-f4fa67208578",
   "metadata": {},
   "outputs": [],
   "source": [
    "#configure pipette\n",
    "P300 = Pipette.Pipette.from_config(jubilee, 1, 'pipette', 'P300_config.json')\n",
    "jubilee.load_tool(P300)\n",
    "P300.add_tiprack(tiprack)"
   ]
  },
  {
   "cell_type": "code",
   "execution_count": null,
   "id": "6097c2bf-cd49-4c2f-aa91-defe259b0fda",
   "metadata": {},
   "outputs": [],
   "source": [
    "#configure camera\n",
    "Camera = WebCamera.Camera.from_config(jubilee, 0, 'Camera', 'WebCamera_config.json')\n",
    "jubilee.load_tool(Camera)"
   ]
  },
  {
   "cell_type": "markdown",
   "id": "378e6929-35c3-4fc8-91d1-b409a81afa42",
   "metadata": {},
   "source": [
    "## Color picking"
   ]
  },
  {
   "cell_type": "code",
   "execution_count": 5,
   "id": "ebee928d-1c50-4227-b92d-41b414aed2d6",
   "metadata": {},
   "outputs": [],
   "source": [
    "a = widgets.ColorPicker(\n",
    "    concise=False,\n",
    "    description='Pick a color',\n",
    "    value='blue',\n",
    "    disabled=False\n",
    ")"
   ]
  },
  {
   "cell_type": "code",
   "execution_count": 6,
   "id": "42e850e1-c45e-4083-b315-659ce0baee91",
   "metadata": {},
   "outputs": [
    {
     "data": {
      "application/vnd.jupyter.widget-view+json": {
       "model_id": "d458ced2adf148f9bcfedab6cbe29ed5",
       "version_major": 2,
       "version_minor": 0
      },
      "text/plain": [
       "ColorPicker(value='blue', description='Pick a color')"
      ]
     },
     "execution_count": 6,
     "metadata": {},
     "output_type": "execute_result"
    }
   ],
   "source": [
    "a"
   ]
  },
  {
   "cell_type": "code",
   "execution_count": 24,
   "id": "4b7e0fa2-c1cb-4240-bcf8-8b5a16167f97",
   "metadata": {},
   "outputs": [],
   "source": [
    "hexcode = a.value"
   ]
  },
  {
   "cell_type": "code",
   "execution_count": 25,
   "id": "2cc95b0d-585c-4c3b-a400-13bf2994be0b",
   "metadata": {},
   "outputs": [],
   "source": [
    "target_rgb = tuple(int(hexcode.lstrip('#')[i:i+2], 16) for i in (0,2,4))"
   ]
  },
  {
   "cell_type": "code",
   "execution_count": 26,
   "id": "b2e27207-30de-4edd-91ed-70744c0e63f0",
   "metadata": {},
   "outputs": [
    {
     "data": {
      "text/plain": [
       "(255, 38, 0)"
      ]
     },
     "execution_count": 26,
     "metadata": {},
     "output_type": "execute_result"
    }
   ],
   "source": [
    "target_rgb"
   ]
  },
  {
   "cell_type": "code",
   "execution_count": null,
   "id": "83910971-95e3-4092-ab39-ea440a0225ff",
   "metadata": {},
   "outputs": [],
   "source": []
  }
 ],
 "metadata": {
  "kernelspec": {
   "display_name": "Python 3 (ipykernel)",
   "language": "python",
   "name": "python3"
  },
  "language_info": {
   "codemirror_mode": {
    "name": "ipython",
    "version": 3
   },
   "file_extension": ".py",
   "mimetype": "text/x-python",
   "name": "python",
   "nbconvert_exporter": "python",
   "pygments_lexer": "ipython3",
   "version": "3.9.16"
  }
 },
 "nbformat": 4,
 "nbformat_minor": 5
}
