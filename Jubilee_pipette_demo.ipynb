{
 "cells": [
  {
   "cell_type": "code",
   "execution_count": 1,
   "id": "91561cdc-d769-454b-9e74-61b80f725409",
   "metadata": {},
   "outputs": [],
   "source": [
    "%load_ext autoreload\n",
    "%autoreload 2\n",
    "#%matplotlib qt"
   ]
  },
  {
   "cell_type": "code",
   "execution_count": 2,
   "id": "60693674-a8c6-425d-8575-c00b6b21ecc0",
   "metadata": {},
   "outputs": [],
   "source": [
    "import matplotlib\n",
    "matplotlib.use('Qt5Agg')"
   ]
  },
  {
   "cell_type": "code",
   "execution_count": 3,
   "id": "9c480045-322f-4a91-b0bd-8b8f1641aba2",
   "metadata": {},
   "outputs": [],
   "source": [
    "import sys\n",
    "\n",
    "sys.path.append('./src/jubilee_pipette_bodemo/')\n",
    "sys.path.append('../bayesopt')\n",
    "\n",
    "from science_jubilee import Machine as Jub\n",
    "from science_jubilee.labware.Labware import Labware, Well\n",
    "from science_jubilee.tools import Pipette, WebCamera, Tool\n",
    "\n",
    "import color_match\n",
    "from color_match import BO_campaign\n",
    "import jubilee_protocols\n",
    "\n",
    "from bayesopt import acquisitions\n",
    "from bayesopt import bayesian_optimizer\n",
    "\n",
    "import ipywidgets as widgets\n",
    "import numpy as np\n",
    "import pandas as pd\n",
    "\n",
    "import matplotlib.pyplot as plt\n",
    "from math import sqrt, acos, asin, cos, sin\n",
    "import copy\n",
    "\n",
    "import json"
   ]
  },
  {
   "cell_type": "markdown",
   "id": "4a1c164b-e293-4ecb-8e52-0fecea0de49e",
   "metadata": {},
   "source": [
    "## Machine setup and connection"
   ]
  },
  {
   "cell_type": "code",
   "execution_count": 4,
   "id": "75e60f2b-3eb1-4f18-8ebf-b4c515184754",
   "metadata": {},
   "outputs": [],
   "source": [
    "jubilee = Jub.Machine(address='192.168.1.2')"
   ]
  },
  {
   "cell_type": "code",
   "execution_count": 5,
   "id": "e8ce2800-20e3-4ca1-9a1c-d1af5d893a01",
   "metadata": {},
   "outputs": [],
   "source": [
    "jubilee.home_all()"
   ]
  },
  {
   "cell_type": "code",
   "execution_count": 6,
   "id": "90aef057-ac54-4c6e-a848-3b0bd04d2482",
   "metadata": {},
   "outputs": [],
   "source": [
    "jubilee.move_to(z = 115)"
   ]
  },
  {
   "cell_type": "code",
   "execution_count": 7,
   "id": "ff091d6c-f39d-4d06-86c3-134efde65348",
   "metadata": {},
   "outputs": [],
   "source": [
    "deck = jubilee.load_deck('lab_automation_deck.json')\n",
    "tiprack = jubilee.load_labware('opentrons_96_tiprack_300ul.json', 0)\n",
    "samples = jubilee.load_labware('corning_96_wellplate_360ul_flat.json', 2)\n",
    "stocks = jubilee.load_labware('20mlscintillation_12_wellplate_18000ul.json', 3)\n",
    "trash = jubilee.load_labware('agilent_1_reservoir_290ml.json', 1)"
   ]
  },
  {
   "cell_type": "code",
   "execution_count": 8,
   "id": "b54d547f-29df-48d5-8ad9-f4fa67208578",
   "metadata": {},
   "outputs": [],
   "source": [
    "#configure pipette\n",
    "P300 = Pipette.Pipette.from_config(1, 'Pipette', 'P300_config.json')\n",
    "jubilee.load_tool(P300)\n",
    "P300.add_tiprack(tiprack)"
   ]
  },
  {
   "cell_type": "code",
   "execution_count": 9,
   "id": "6097c2bf-cd49-4c2f-aa91-defe259b0fda",
   "metadata": {},
   "outputs": [],
   "source": [
    "#configure camera\n",
    "Camera = WebCamera.Camera.from_config(0, 'Camera', 'WebCamera_config.json')\n",
    "jubilee.load_tool(Camera)"
   ]
  },
  {
   "cell_type": "code",
   "execution_count": 10,
   "id": "d9fddf20-96fc-480c-9497-0f886011d5cd",
   "metadata": {},
   "outputs": [],
   "source": [
    "# apply offset to samples for mixer module \n",
    "#samples.offset = (0, 0, 40.0)"
   ]
  },
  {
   "cell_type": "markdown",
   "id": "cf5d9332-0dff-49b8-9ee2-5b8b77472a2b",
   "metadata": {},
   "source": [
    "### Manual offset input"
   ]
  },
  {
   "cell_type": "code",
   "execution_count": 11,
   "id": "f2f0f007-e85c-4c66-8fb3-6228e8407ca9",
   "metadata": {},
   "outputs": [
    {
     "name": "stdout",
     "output_type": "stream",
     "text": [
      "Labware already has a manual offset found for this slot. If you want to overwrite it, set save=True\n",
      "New manual offset applied to opentrons_96_tiprack_300ul\n",
      "stored manual offset found.  To overwrite it on the `config.json` file, set force=True\n"
     ]
    }
   ],
   "source": [
    "# tiprack\n",
    "UL = [30.0,79.0]\n",
    "UR = [129.0, 79.4]\n",
    "BR = [129.5, 16.9]\n",
    "\n",
    "tiprack.manual_offset((UL, UR, BR), save = True) #, save=True, force=True)"
   ]
  },
  {
   "cell_type": "code",
   "execution_count": 12,
   "id": "4b757574-52ba-4c25-8b7a-5c289681f9d8",
   "metadata": {},
   "outputs": [
    {
     "name": "stdout",
     "output_type": "stream",
     "text": [
      "Labware already has a manual offset found for this slot. If you want to overwrite it, set save=True\n",
      "New manual offset applied to corning_96_wellplate_360ul_flat\n",
      "stored manual offset found.  To overwrite it on the `config.json` file, set force=True\n"
     ]
    }
   ],
   "source": [
    "# samples\n",
    "UL = [32.2,176.4]\n",
    "UR = [123.3, 176.9]\n",
    "BR = [123.6, 112.6]\n",
    "\n",
    "samples.manual_offset((UL, UR, BR), save=True)"
   ]
  },
  {
   "cell_type": "code",
   "execution_count": 13,
   "id": "1a08b6b5-bdca-4404-8add-801fafaa09d4",
   "metadata": {},
   "outputs": [
    {
     "name": "stdout",
     "output_type": "stream",
     "text": [
      "Labware already has a manual offset found for this slot. If you want to overwrite it, set save=True\n",
      "New manual offset applied to 20mlscintillation_12_wellplate_18000ul\n",
      "stored manual offset found.  To overwrite it on the `config.json` file, set force=True\n"
     ]
    }
   ],
   "source": [
    "# stocks\n",
    "UL = [175.5, 171.5]\n",
    "UR = [259.3, 172.1]\n",
    "BR = [259.9, 117.0]\n",
    "\n",
    "stocks.manual_offset((UL, UR, BR), save=True)"
   ]
  },
  {
   "cell_type": "code",
   "execution_count": 17,
   "id": "59ae618b-5c27-4daa-914e-5f4567dd27e2",
   "metadata": {},
   "outputs": [],
   "source": [
    "jubilee.pickup_tool(P300)"
   ]
  },
  {
   "cell_type": "code",
   "execution_count": 18,
   "id": "342136bf-ef5b-4cb2-afff-e494c17592a1",
   "metadata": {},
   "outputs": [],
   "source": [
    "P300.pickup_tip()"
   ]
  },
  {
   "cell_type": "code",
   "execution_count": 23,
   "id": "ae3cd8bc-33a0-4d6b-83d9-f1c00e3b4586",
   "metadata": {},
   "outputs": [],
   "source": [
    "P300.transfer(20, stocks[0], samples[0])"
   ]
  },
  {
   "cell_type": "code",
   "execution_count": 24,
   "id": "be176fbc-4165-46e6-aa61-84f2de249a7d",
   "metadata": {},
   "outputs": [],
   "source": [
    "P300.drop_tip(trash[0])"
   ]
  },
  {
   "cell_type": "code",
   "execution_count": 25,
   "id": "0a4c8203-ed00-4072-a964-6d41c17e108c",
   "metadata": {},
   "outputs": [],
   "source": [
    "jubilee.park_tool()"
   ]
  },
  {
   "cell_type": "markdown",
   "id": "378e6929-35c3-4fc8-91d1-b409a81afa42",
   "metadata": {},
   "source": [
    "## Color picking"
   ]
  },
  {
   "cell_type": "code",
   "execution_count": 14,
   "id": "ebee928d-1c50-4227-b92d-41b414aed2d6",
   "metadata": {},
   "outputs": [],
   "source": [
    "a = widgets.ColorPicker(\n",
    "    concise=False,\n",
    "    description='Pick a color',\n",
    "    value='blue',\n",
    "    disabled=False\n",
    ")"
   ]
  },
  {
   "cell_type": "code",
   "execution_count": 15,
   "id": "42e850e1-c45e-4083-b315-659ce0baee91",
   "metadata": {},
   "outputs": [
    {
     "data": {
      "application/vnd.jupyter.widget-view+json": {
       "model_id": "31316cc5513e4ff1be58f1581d2e6174",
       "version_major": 2,
       "version_minor": 0
      },
      "text/plain": [
       "ColorPicker(value='blue', description='Pick a color')"
      ]
     },
     "execution_count": 15,
     "metadata": {},
     "output_type": "execute_result"
    }
   ],
   "source": [
    "a"
   ]
  },
  {
   "cell_type": "code",
   "execution_count": 14,
   "id": "4b7e0fa2-c1cb-4240-bcf8-8b5a16167f97",
   "metadata": {},
   "outputs": [],
   "source": [
    "hexcode = a.value\n"
   ]
  },
  {
   "cell_type": "code",
   "execution_count": 15,
   "id": "2cc95b0d-585c-4c3b-a400-13bf2994be0b",
   "metadata": {},
   "outputs": [],
   "source": [
    "target_rgb = tuple(int(hexcode.lstrip('#')[i:i+2], 16) for i in (0,2,4))\n",
    "target_color = color_match.normalize_color(target_rgb)"
   ]
  },
  {
   "cell_type": "code",
   "execution_count": 16,
   "id": "b2e27207-30de-4edd-91ed-70744c0e63f0",
   "metadata": {},
   "outputs": [
    {
     "data": {
      "text/plain": [
       "[0.5019607843137255, 0.0, 0.5019607843137255]"
      ]
     },
     "execution_count": 16,
     "metadata": {},
     "output_type": "execute_result"
    }
   ],
   "source": [
    "target_color"
   ]
  },
  {
   "cell_type": "markdown",
   "id": "8afbb8e0-c860-4529-ab15-688f72204b96",
   "metadata": {},
   "source": [
    "## Set up things for demo"
   ]
  },
  {
   "cell_type": "code",
   "execution_count": 17,
   "id": "ef2bae22-afac-4d1d-bd11-cb16d560079f",
   "metadata": {},
   "outputs": [],
   "source": [
    "red_stock = stocks[0]\n",
    "yellow_stock = stocks[2]\n",
    "blue_stock = stocks[1]\n",
    "trash_well = trash[0]"
   ]
  },
  {
   "cell_type": "code",
   "execution_count": 18,
   "id": "184e9eeb-8e17-439c-8f46-9aa7133e05ee",
   "metadata": {},
   "outputs": [],
   "source": [
    "sample_space = color_match.get_constrained_points(101)"
   ]
  },
  {
   "cell_type": "markdown",
   "id": "48b8fa7c-45f1-49ac-bd49-4c45b6e64d91",
   "metadata": {},
   "source": [
    "## Get initial data"
   ]
  },
  {
   "cell_type": "code",
   "execution_count": 19,
   "id": "6a1d733f-691f-4567-b3b9-12f3f4e2ae1d",
   "metadata": {},
   "outputs": [],
   "source": [
    "n_init_points = 6\n",
    "sampled_indices = np.random.randint(0, len(sample_space), size = n_init_points)\n",
    "sampled_points = sample_space[sampled_indices]"
   ]
  },
  {
   "cell_type": "code",
   "execution_count": 21,
   "id": "71ec44be-a950-4a55-8408-3f916ab1e570",
   "metadata": {},
   "outputs": [
    {
     "name": "stdout",
     "output_type": "stream",
     "text": [
      "creating sample\n",
      "[0.19 0.42 0.39]\n",
      "Well(name='A7', depth=10.67, totalLiquidVolume=360, shape='circular', diameter=6.86, xDimension=None, yDimension=None, x=81.79025883831503, y=175.4575092697985, z=3.55, offset=[14.3, 100.8], slot=2)\n",
      "Calculated volumes:  [47.5, 105.0, 97.5]\n",
      "creating sample\n",
      "[0.72 0.   0.28]\n",
      "Well(name='A8', depth=10.67, totalLiquidVolume=360, shape='circular', diameter=6.86, xDimension=None, yDimension=None, x=90.79014284653866, y=175.50320214145694, z=3.55, offset=[14.3, 100.8], slot=2)\n",
      "Calculated volumes:  [180.0, 0.0, 70.0]\n",
      "creating sample\n",
      "[0.31 0.5  0.19]\n",
      "Well(name='A9', depth=10.67, totalLiquidVolume=360, shape='circular', diameter=6.86, xDimension=None, yDimension=None, x=99.7900268547623, y=175.54889501311538, z=3.55, offset=[14.3, 100.8], slot=2)\n",
      "Calculated volumes:  [77.5, 125.0, 47.5]\n",
      "creating sample\n",
      "[0.54 0.28 0.18]\n",
      "Well(name='A10', depth=10.67, totalLiquidVolume=360, shape='circular', diameter=6.86, xDimension=None, yDimension=None, x=108.78991086298593, y=175.59458788477386, z=3.55, offset=[14.3, 100.8], slot=2)\n",
      "Calculated volumes:  [135.0, 70.0, 45.0]\n",
      "creating sample\n",
      "[0.93 0.01 0.06]\n",
      "Well(name='A11', depth=10.67, totalLiquidVolume=360, shape='circular', diameter=6.86, xDimension=None, yDimension=None, x=117.78979487120958, y=175.6402807564323, z=3.55, offset=[14.3, 100.8], slot=2)\n",
      "Calculated volumes:  [232.5, 2.5, 15.0]\n",
      "creating sample\n",
      "[0.35 0.45 0.2 ]\n",
      "Well(name='A12', depth=10.67, totalLiquidVolume=360, shape='circular', diameter=6.86, xDimension=None, yDimension=None, x=126.78967887943321, y=175.68597362809075, z=3.55, offset=[14.3, 100.8], slot=2)\n",
      "Calculated volumes:  [87.50000000000001, 112.5, 50.0]\n"
     ]
    }
   ],
   "source": [
    "rgb_vals = []\n",
    "for i in range(len(sampled_points)):\n",
    "    point = sampled_points[i,:]\n",
    "    well = samples[i+6] \n",
    "    print('creating sample')\n",
    "    print(point)\n",
    "    print(well)\n",
    "    \n",
    "    RGB = jubilee_protocols.sample_point(jubilee, P300, Camera, point, 250, well, red_stock, yellow_stock, blue_stock, trash_well)\n",
    "    rgb_vals.append(RGB)"
   ]
  },
  {
   "cell_type": "code",
   "execution_count": 20,
   "id": "b118d6b7-dc2d-4f6f-9e68-ac7f087b8571",
   "metadata": {},
   "outputs": [],
   "source": [
    "init_data = []\n",
    "for i in range(len(sampled_points)):\n",
    "    data = {}\n",
    "    data['sample_id'] = str(i)\n",
    "    data['RYB_point'] = list(sampled_points[i])\n",
    "    data['RGB_measured'] = rgb_vals[i]\n",
    "\n",
    "    init_data.append(data)"
   ]
  },
  {
   "cell_type": "code",
   "execution_count": 24,
   "id": "4a3c5dc5-4f98-49f9-9791-b68d75943b36",
   "metadata": {},
   "outputs": [],
   "source": [
    "with open('initial_data_random_6.jsonl', 'wt') as f:\n",
    "    for entry in init_data:\n",
    "        f.write(json.dumps(entry) + '\\n')"
   ]
  },
  {
   "cell_type": "markdown",
   "id": "770731cb-fa8e-488d-ba17-52831afc7a5a",
   "metadata": {},
   "source": [
    "## Run BO campaign to make target color "
   ]
  },
  {
   "cell_type": "markdown",
   "id": "0e8963e2-c043-48b2-888d-cbf26dfa1a86",
   "metadata": {},
   "source": [
    "### Load initial data and calculate loss value for target color "
   ]
  },
  {
   "cell_type": "code",
   "execution_count": 18,
   "id": "6a2709f3-ea60-4206-881b-caa11e30628e",
   "metadata": {},
   "outputs": [],
   "source": [
    "init_data = []\n",
    "\n",
    "with open('initial_data_random_6.jsonl', 'rt') as f:\n",
    "    for line in f:\n",
    "        init_data.append(json.loads(line))"
   ]
  },
  {
   "cell_type": "code",
   "execution_count": 19,
   "id": "5d16670d-30c2-4990-97a0-de84eff629ff",
   "metadata": {},
   "outputs": [],
   "source": [
    "for entry in init_data:\n",
    "    bgr = entry['RGB_measured']\n",
    "    entry['RGB_measured'] = [bgr[i] for i in [2,1,0]]"
   ]
  },
  {
   "cell_type": "code",
   "execution_count": 20,
   "id": "cb9b76f3-04a5-4a2b-8c26-478c68a0fd41",
   "metadata": {},
   "outputs": [],
   "source": [
    "init_X = np.zeros((len(init_data),3))\n",
    "init_y = np.zeros(len(init_data))\n",
    "\n",
    "for i, entry in enumerate(init_data):\n",
    "    init_X[i,:] = entry['RYB_point']\n",
    "    init_y[i] = color_match.color_loss_calculation(target_color, color_match.normalize_color(entry['RGB_measured']))"
   ]
  },
  {
   "cell_type": "markdown",
   "id": "821718dd-0cac-4808-9255-7d536a4fa61a",
   "metadata": {},
   "source": [
    "### Select acquisition function"
   ]
  },
  {
   "cell_type": "code",
   "execution_count": 21,
   "id": "93c7380d-cfe4-450c-a6e2-ad33cb32da23",
   "metadata": {},
   "outputs": [],
   "source": [
    "acquisition_function = acquisitions.optimize_EI\n",
    "acq_kwargs = {'xi':0.3}"
   ]
  },
  {
   "cell_type": "code",
   "execution_count": 22,
   "id": "8650ece9-75a9-4efb-b760-6da778e82f61",
   "metadata": {},
   "outputs": [],
   "source": [
    "initial_data = (init_X, init_y)\n",
    "number_of_iterations = 2"
   ]
  },
  {
   "cell_type": "code",
   "execution_count": null,
   "id": "a7ad89a0-c598-48fe-a403-f2955f7c1773",
   "metadata": {},
   "outputs": [],
   "source": [
    "ryb_sampled, rgb_measured, images, scores, bo_obj = BO_campaign(initial_data, acquisition_function, acq_kwargs, number_of_iterations, target_color, jubilee, P300, Camera, 250, stocks['A1'], stocks['A3'], stocks['A2'], samples, trash[0], start_well = 3)"
   ]
  },
  {
   "cell_type": "code",
   "execution_count": 38,
   "id": "9b386335-5e4c-4756-b47a-d8c55143c8f5",
   "metadata": {},
   "outputs": [
    {
     "data": {
      "text/plain": [
       "96"
      ]
     },
     "execution_count": 38,
     "metadata": {},
     "output_type": "execute_result"
    }
   ],
   "source": [
    "len(samples.wells)"
   ]
  },
  {
   "cell_type": "code",
   "execution_count": null,
   "id": "b2c5ef65-d698-4d59-908d-8703dbbe3a1d",
   "metadata": {},
   "outputs": [],
   "source": []
  }
 ],
 "metadata": {
  "kernelspec": {
   "display_name": "Python 3 (ipykernel)",
   "language": "python",
   "name": "python3"
  },
  "language_info": {
   "codemirror_mode": {
    "name": "ipython",
    "version": 3
   },
   "file_extension": ".py",
   "mimetype": "text/x-python",
   "name": "python",
   "nbconvert_exporter": "python",
   "pygments_lexer": "ipython3",
   "version": "3.9.18"
  }
 },
 "nbformat": 4,
 "nbformat_minor": 5
}
