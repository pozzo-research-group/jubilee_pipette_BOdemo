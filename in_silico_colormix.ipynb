{
 "cells": [
  {
   "cell_type": "code",
   "execution_count": 1,
   "id": "564493b9-ad9d-4e68-94ea-b9b9212de296",
   "metadata": {},
   "outputs": [],
   "source": [
    "%load_ext autoreload\n",
    "%autoreload 2"
   ]
  },
  {
   "cell_type": "markdown",
   "id": "9de445d2-9fa5-4dad-b816-92dba61dfeb9",
   "metadata": {},
   "source": [
    "# In-silico color mix experiment\n",
    "\n",
    "This notebook walks through how to run an 'in-silico' color mixing experiment. This uses a simulated/calculated color mixing calculation to create and measure mixed colors instead of mixing and measuring them on Jubilee. This makes it easier and faster to experiment with the optimization details without getting stuck on Jubilee motion platform problems"
   ]
  },
  {
   "cell_type": "markdown",
   "id": "8ad11492-aa90-4ec6-af61-1be995998550",
   "metadata": {},
   "source": [
    "## Launch the bayesian optimization server \n",
    "\n",
    "This implementation uses my bo-serving package to serve a bayesian optimization service as an HTTP API endpoint. Everything to do this is configured within the color mixing code we use here. All that needs to be done is to start up the service:\n",
    "\n",
    "1. Clone the bo-serving repo: https://github.com/pozzo-research-group/bo-serving\n",
    "2. Install the bo-serving repo: from the root of the repo, run `pip install -e .`\n",
    "3. Change directories into 'src/bo_serving/botorch_serving'\n",
    "4. Run the command `flask --app serve_botorch run` to launch the server\n",
    "\n",
    "If step 4 ran correctly, you are all set!"
   ]
  },
  {
   "cell_type": "code",
   "execution_count": 9,
   "id": "9cf77fc8-e482-46f5-9c3b-4572c5e39613",
   "metadata": {},
   "outputs": [],
   "source": [
    "import cv2\n",
    "import numpy as np\n",
    "from PIL import Image\n",
    "\n",
    "from jubilee_pipette_bodemo.color_matcher import ColorMatcher\n",
    "from jubilee_pipette_bodemo.in_silico_mixing import synthetic_image\n",
    "import jubilee_pipette_bodemo.image_processing as image_processing\n",
    "\n",
    "import requests\n",
    "\n",
    "# ------ Data visualization outside of the notebook ------\n",
    "import matplotlib\n",
    "#matplotlib.use('Qt5Agg')\n",
    "\n",
    "import io\n",
    "\n",
    "import torch"
   ]
  },
  {
   "cell_type": "markdown",
   "id": "776302b7-5da0-497d-a27b-fc798c57c658",
   "metadata": {},
   "source": [
    "## Create the color matcher object\n",
    "\n",
    "This creates the 'ColorMatcher' object with the parameters we want to use for testing. Here, we are using 5 total stocks, a 'sample volume' of 300 (this is a carryover from the experimental color mixing and lets us use the same python code for both versions), a euclidean distance color score, simulated mixing, and the 5 colors in the 'in silico colors' list are the colors our experiment will use to mix."
   ]
  },
  {
   "cell_type": "code",
   "execution_count": 10,
   "id": "2ea63efb-b3d3-444f-84dd-4c2fd55073cf",
   "metadata": {},
   "outputs": [],
   "source": [
    "url = 'http://127.0.0.1:5000'\n",
    "n_params = 5\n",
    "n_bo_trials = 20\n",
    "n_random_trials = 5\n",
    "init_response = requests.post(url + '/new_experiment', json = {'n_params':n_params, 'n_random_trials':n_random_trials, 'n_bo_trials':n_bo_trials})"
   ]
  },
  {
   "cell_type": "code",
   "execution_count": 4,
   "id": "08b53cd8-d3dc-4241-835e-fb403ffa30ce",
   "metadata": {},
   "outputs": [
    {
     "data": {
      "text/plain": [
       "<Response [200]>"
      ]
     },
     "execution_count": 4,
     "metadata": {},
     "output_type": "execute_result"
    }
   ],
   "source": [
    "init_response"
   ]
  },
  {
   "cell_type": "code",
   "execution_count": 11,
   "id": "e55cb48b-73f2-40b1-95dc-1698fd92661b",
   "metadata": {},
   "outputs": [],
   "source": [
    "RobRoss = ColorMatcher(5, sample_volume=300, score_type='euclidean', in_silico_mixing = True, in_silico_colors = [[255, 0, 0], [255, 255, 0], [0,0,255], [255,255,255], [0,0,0]], n_random_its=5, n_bo_its=20, http_url='http://127.0.0.1:5000')"
   ]
  },
  {
   "cell_type": "markdown",
   "id": "8379b034-87ef-49aa-ba91-1a81676ead77",
   "metadata": {},
   "source": [
    "## Pick a color\n",
    "\n",
    "You need to click on the blue box and select a target color for the selection to register correctly as an RGB value"
   ]
  },
  {
   "cell_type": "code",
   "execution_count": 12,
   "id": "76df76bf-d2b5-49e4-a9ca-ead37dadba9c",
   "metadata": {
    "scrolled": true
   },
   "outputs": [
    {
     "data": {
      "application/vnd.jupyter.widget-view+json": {
       "model_id": "0f05d4bc25a64c7ba9c40b06483d1618",
       "version_major": 2,
       "version_minor": 0
      },
      "text/plain": [
       "ColorPicker(value='blue', description='Pick a color')"
      ]
     },
     "metadata": {},
     "output_type": "display_data"
    }
   ],
   "source": [
    "target_color = RobRoss.select_target_color()"
   ]
  },
  {
   "cell_type": "markdown",
   "id": "52893dda-c5b6-4a1c-9e1a-ea493cd3e7cc",
   "metadata": {},
   "source": [
    "## Run the campaign\n",
    "\n",
    "This will run the experiment. The first number will determine the number of total experiments run. The first n_random_its experiments (specified when we created the RobRoss object) will be run with random sample selection, and the rest will use bayesian optimization."
   ]
  },
  {
   "cell_type": "code",
   "execution_count": null,
   "id": "727ed4b6-6e8a-428c-a60f-82ca3faabdb2",
   "metadata": {
    "scrolled": true
   },
   "outputs": [
    {
     "name": "stdout",
     "output_type": "stream",
     "text": [
      "http optimizer is asking service for next trial experiment 298264388507862907309965493277379901365\n",
      "new trial index:  0\n",
      "query point:  [0.23456798213205282, 0.019112375083100368, 0.3258069886033031, 0.32853841758338037, 0.09197423659816337]\n",
      "type query pt:  <class 'list'>\n",
      "RYB values tested: [0.23456798213205282, 0.019112375083100368, 0.3258069886033031, 0.32853841758338037, 0.09197423659816337]\n",
      "RGB values observed: (140, 73, 155)\n",
      "color score:  [0.9574813172563946]\n",
      "type:  <class 'list'>\n",
      "Updating optimizer for experiment 298264388507862907309965493277379901365\n",
      "http optimizer is asking service for next trial experiment 298264388507862907309965493277379901365\n",
      "new trial index:  1\n",
      "query point:  [0.3279738530744181, 0.04577686041110876, 0.004651129953449276, 0.3599419385654521, 0.2616562179955717]\n",
      "type query pt:  <class 'list'>\n",
      "RYB values tested: [0.3279738530744181, 0.04577686041110876, 0.004651129953449276, 0.3599419385654521, 0.2616562179955717]\n",
      "RGB values observed: (192, 87, 85)\n",
      "color score:  [0.9574813172563946, 1.1666056995109737]\n",
      "type:  <class 'list'>\n",
      "Updating optimizer for experiment 298264388507862907309965493277379901365\n",
      "http optimizer is asking service for next trial experiment 298264388507862907309965493277379901365\n",
      "new trial index:  2\n",
      "query point:  [0.24912241778056884, 0.029702190956554343, 0.5206224379166937, 0.10871225631873067, 0.09184069702745247]\n",
      "type query pt:  <class 'list'>\n",
      "RYB values tested: [0.24912241778056884, 0.029702190956554343, 0.5206224379166937, 0.10871225631873067, 0.09184069702745247]\n",
      "RGB values observed: (89, 28, 145)\n",
      "color score:  [0.9574813172563946, 1.1666056995109737, 1.0233641215796112]\n",
      "type:  <class 'list'>\n",
      "Updating optimizer for experiment 298264388507862907309965493277379901365\n",
      "http optimizer is asking service for next trial experiment 298264388507862907309965493277379901365\n",
      "new trial index:  3\n",
      "query point:  [0.14939307949178435, 0.39809977309258293, 0.3055160551690499, 0.1291671917774493, 0.017823900469133666]\n",
      "type query pt:  <class 'list'>\n",
      "RYB values tested: [0.14939307949178435, 0.39809977309258293, 0.3055160551690499, 0.1291671917774493, 0.017823900469133666]\n",
      "RGB values observed: (147, 140, 89)\n",
      "color score:  [0.9574813172563946, 1.1666056995109737, 1.0233641215796112, 0.936549082006136]\n",
      "type:  <class 'list'>\n",
      "Updating optimizer for experiment 298264388507862907309965493277379901365\n",
      "http optimizer is asking service for next trial experiment 298264388507862907309965493277379901365\n",
      "new trial index:  4\n",
      "query point:  [0.1513906392944682, 0.34136072861273997, 0.051298452650706594, 0.0937759849249098, 0.36217419451717536]\n",
      "type query pt:  <class 'list'>\n",
      "RYB values tested: [0.1513906392944682, 0.34136072861273997, 0.051298452650706594, 0.0937759849249098, 0.36217419451717536]\n",
      "RGB values observed: (133, 108, 36)\n",
      "color score:  [0.9574813172563946, 1.1666056995109737, 1.0233641215796112, 0.936549082006136, 1.109893989278076]\n",
      "type:  <class 'list'>\n",
      "Updating optimizer for experiment 298264388507862907309965493277379901365\n",
      "http optimizer is asking service for next trial experiment 298264388507862907309965493277379901365\n",
      "new trial index:  5\n",
      "query point:  [0.1412316126122875, 0.4029844836169756, 0.3054763341801292, 0.12997961249914103, 0.020327957091476737]\n",
      "type query pt:  <class 'list'>\n",
      "RYB values tested: [0.1412316126122875, 0.4029844836169756, 0.3054763341801292, 0.12997961249914103, 0.020327957091476737]\n",
      "RGB values observed: (146, 142, 89)\n",
      "color score:  [0.9574813172563946, 1.1666056995109737, 1.0233641215796112, 0.936549082006136, 1.109893989278076, 0.9303792432831786]\n",
      "type:  <class 'list'>\n",
      "Updating optimizer for experiment 298264388507862907309965493277379901365\n",
      "http optimizer is asking service for next trial experiment 298264388507862907309965493277379901365\n",
      "new trial index:  6\n",
      "query point:  [0.10109112139095157, 0.42367057203480696, 0.3112750142236818, 0.13718218082811126, 0.026781111522448314]\n",
      "type query pt:  <class 'list'>\n",
      "RYB values tested: [0.10109112139095157, 0.42367057203480696, 0.3112750142236818, 0.13718218082811126, 0.026781111522448314]\n",
      "RGB values observed: (140, 153, 90)\n",
      "color score:  [0.9574813172563946, 1.1666056995109737, 1.0233641215796112, 0.936549082006136, 1.109893989278076, 0.9303792432831786, 0.8934638132258192]\n",
      "type:  <class 'list'>\n",
      "Updating optimizer for experiment 298264388507862907309965493277379901365\n",
      "http optimizer is asking service for next trial experiment 298264388507862907309965493277379901365\n",
      "new trial index:  7\n",
      "query point:  [0.032874243277280765, 0.4529860160433438, 0.3334671744494123, 0.15595168231549458, 0.024720883914468576]\n",
      "type query pt:  <class 'list'>\n",
      "RYB values tested: [0.032874243277280765, 0.4529860160433438, 0.3334671744494123, 0.15595168231549458, 0.024720883914468576]\n",
      "RGB values observed: (129, 174, 97)\n",
      "color score:  [0.9574813172563946, 1.1666056995109737, 1.0233641215796112, 0.936549082006136, 1.109893989278076, 0.9303792432831786, 0.8934638132258192, 0.8139782267562309]\n",
      "type:  <class 'list'>\n",
      "Updating optimizer for experiment 298264388507862907309965493277379901365\n",
      "http optimizer is asking service for next trial experiment 298264388507862907309965493277379901365\n",
      "new trial index:  8\n",
      "query point:  [2.423592374080263e-16, 0.4723205479272808, 0.35717916892187684, 0.17050028315084215, 0.0]\n",
      "type query pt:  <class 'list'>\n",
      "RYB values tested: [2.423592374080263e-16, 0.4723205479272808, 0.35717916892187684, 0.17050028315084215, 0.0]\n",
      "RGB values observed: (126, 189, 104)\n",
      "color score:  [0.9574813172563946, 1.1666056995109737, 1.0233641215796112, 0.936549082006136, 1.109893989278076, 0.9303792432831786, 0.8934638132258192, 0.8139782267562309, 0.7663431442158656]\n",
      "type:  <class 'list'>\n",
      "Updating optimizer for experiment 298264388507862907309965493277379901365\n",
      "http optimizer is asking service for next trial experiment 298264388507862907309965493277379901365\n",
      "new trial index:  9\n",
      "query point:  [0.0, 0.4679051219068301, 0.3669873469372859, 0.16510753115588453, 3.637691150487589e-16]\n",
      "type query pt:  <class 'list'>\n",
      "RYB values tested: [0.0, 0.4679051219068301, 0.3669873469372859, 0.16510753115588453, 3.637691150487589e-16]\n",
      "RGB values observed: (123, 187, 105)\n",
      "color score:  [0.9574813172563946, 1.1666056995109737, 1.0233641215796112, 0.936549082006136, 1.109893989278076, 0.9303792432831786, 0.8934638132258192, 0.8139782267562309, 0.7663431442158656, 0.7588209960944692]\n",
      "type:  <class 'list'>\n",
      "Updating optimizer for experiment 298264388507862907309965493277379901365\n",
      "http optimizer is asking service for next trial experiment 298264388507862907309965493277379901365\n",
      "new trial index:  10\n",
      "query point:  [0.0, 0.43411178624541147, 0.45143021611319895, 0.11445799764138989, 3.1321605339953475e-16]\n",
      "type query pt:  <class 'list'>\n",
      "RYB values tested: [0.0, 0.43411178624541147, 0.45143021611319895, 0.11445799764138989, 3.1321605339953475e-16]\n",
      "RGB values observed: (99, 166, 115)\n",
      "color score:  [0.9574813172563946, 1.1666056995109737, 1.0233641215796112, 0.936549082006136, 1.109893989278076, 0.9303792432831786, 0.8934638132258192, 0.8139782267562309, 0.7663431442158656, 0.7588209960944692, 0.7107782285067438]\n",
      "type:  <class 'list'>\n",
      "Updating optimizer for experiment 298264388507862907309965493277379901365\n",
      "http optimizer is asking service for next trial experiment 298264388507862907309965493277379901365\n",
      "new trial index:  11\n",
      "query point:  [2.3630137101270676e-16, 0.424513668759739, 0.501784605982634, 0.0737017252576268, 6.556158922372793e-17]\n",
      "type query pt:  <class 'list'>\n",
      "RYB values tested: [2.3630137101270676e-16, 0.424513668759739, 0.501784605982634, 0.0737017252576268, 6.556158922372793e-17]\n",
      "RGB values observed: (84, 152, 117)\n",
      "color score:  [0.9574813172563946, 1.1666056995109737, 1.0233641215796112, 0.936549082006136, 1.109893989278076, 0.9303792432831786, 0.8934638132258192, 0.8139782267562309, 0.7663431442158656, 0.7588209960944692, 0.7107782285067438, 0.7048576440294805]\n",
      "type:  <class 'list'>\n",
      "Updating optimizer for experiment 298264388507862907309965493277379901365\n",
      "http optimizer is asking service for next trial experiment 298264388507862907309965493277379901365\n",
      "new trial index:  12\n",
      "query point:  [0.0, 0.4118781027836703, 0.4962552076176411, 0.09186668959868963, 0.0]\n",
      "type query pt:  <class 'list'>\n",
      "RYB values tested: [0.0, 0.4118781027836703, 0.4962552076176411, 0.09186668959868963, 0.0]\n",
      "RGB values observed: (87, 154, 120)\n",
      "color score:  [0.9574813172563946, 1.1666056995109737, 1.0233641215796112, 0.936549082006136, 1.109893989278076, 0.9303792432831786, 0.8934638132258192, 0.8139782267562309, 0.7663431442158656, 0.7588209960944692, 0.7107782285067438, 0.7048576440294805, 0.6981493634179633]\n",
      "type:  <class 'list'>\n",
      "Updating optimizer for experiment 298264388507862907309965493277379901365\n",
      "http optimizer is asking service for next trial experiment 298264388507862907309965493277379901365\n",
      "new trial index:  13\n",
      "query point:  [0.0, 0.34054101911581125, 0.514085084341468, 0.14537389654272226, 0.0]\n",
      "type query pt:  <class 'list'>\n",
      "RYB values tested: [0.0, 0.34054101911581125, 0.514085084341468, 0.14537389654272226, 0.0]\n",
      "RGB values observed: (87, 150, 140)\n",
      "color score:  [0.9574813172563946, 1.1666056995109737, 1.0233641215796112, 0.936549082006136, 1.109893989278076, 0.9303792432831786, 0.8934638132258192, 0.8139782267562309, 0.7663431442158656, 0.7588209960944692, 0.7107782285067438, 0.7048576440294805, 0.6981493634179633, 0.6585200047785787]\n",
      "type:  <class 'list'>\n",
      "Updating optimizer for experiment 298264388507862907309965493277379901365\n",
      "http optimizer is asking service for next trial experiment 298264388507862907309965493277379901365\n",
      "new trial index:  14\n",
      "query point:  [0.0, 0.25899103631716375, 0.52522726550218, 0.21578169818065668, 3.1374790208935816e-16]\n",
      "type query pt:  <class 'list'>\n",
      "RYB values tested: [0.0, 0.25899103631716375, 0.52522726550218, 0.21578169818065668, 3.1374790208935816e-16]\n",
      "RGB values observed: (88, 145, 166)\n",
      "color score:  [0.9574813172563946, 1.1666056995109737, 1.0233641215796112, 0.936549082006136, 1.109893989278076, 0.9303792432831786, 0.8934638132258192, 0.8139782267562309, 0.7663431442158656, 0.7588209960944692, 0.7107782285067438, 0.7048576440294805, 0.6981493634179633, 0.6585200047785787, 0.6204015764883167]\n",
      "type:  <class 'list'>\n",
      "Updating optimizer for experiment 298264388507862907309965493277379901365\n",
      "http optimizer is asking service for next trial experiment 298264388507862907309965493277379901365\n",
      "new trial index:  15\n",
      "query point:  [2.415830126242894e-16, 0.19817018408629983, 0.5269291959783592, 0.2749006199353409, 0.0]\n",
      "type query pt:  <class 'list'>\n",
      "RYB values tested: [2.415830126242894e-16, 0.19817018408629983, 0.5269291959783592, 0.2749006199353409, 0.0]\n",
      "RGB values observed: (89, 141, 188)\n",
      "color score:  [0.9574813172563946, 1.1666056995109737, 1.0233641215796112, 0.936549082006136, 1.109893989278076, 0.9303792432831786, 0.8934638132258192, 0.8139782267562309, 0.7663431442158656, 0.7588209960944692, 0.7107782285067438, 0.7048576440294805, 0.6981493634179633, 0.6585200047785787, 0.6204015764883167, 0.6001025159120718]\n",
      "type:  <class 'list'>\n",
      "Updating optimizer for experiment 298264388507862907309965493277379901365\n",
      "http optimizer is asking service for next trial experiment 298264388507862907309965493277379901365\n",
      "new trial index:  16\n",
      "query point:  [2.8014260597461776e-16, 0.14864542527860258, 0.5265834997246951, 0.3247710749967029, 0.0]\n",
      "type query pt:  <class 'list'>\n",
      "RYB values tested: [2.8014260597461776e-16, 0.14864542527860258, 0.5265834997246951, 0.3247710749967029, 0.0]\n",
      "RGB values observed: (90, 137, 208)\n",
      "color score:  [0.9574813172563946, 1.1666056995109737, 1.0233641215796112, 0.936549082006136, 1.109893989278076, 0.9303792432831786, 0.8934638132258192, 0.8139782267562309, 0.7663431442158656, 0.7588209960944692, 0.7107782285067438, 0.7048576440294805, 0.6981493634179633, 0.6585200047785787, 0.6204015764883167, 0.6001025159120718, 0.5937519096875338]\n",
      "type:  <class 'list'>\n",
      "Updating optimizer for experiment 298264388507862907309965493277379901365\n",
      "http optimizer is asking service for next trial experiment 298264388507862907309965493277379901365\n",
      "new trial index:  17\n",
      "query point:  [9.19019095141885e-17, 0.14143011777639197, 0.5278988473860131, 0.3306710348375947, 0.0]\n",
      "type query pt:  <class 'list'>\n",
      "RYB values tested: [9.19019095141885e-17, 0.14143011777639197, 0.5278988473860131, 0.3306710348375947, 0.0]\n",
      "RGB values observed: (90, 136, 211)\n",
      "color score:  [0.9574813172563946, 1.1666056995109737, 1.0233641215796112, 0.936549082006136, 1.109893989278076, 0.9303792432831786, 0.8934638132258192, 0.8139782267562309, 0.7663431442158656, 0.7588209960944692, 0.7107782285067438, 0.7048576440294805, 0.6981493634179633, 0.6585200047785787, 0.6204015764883167, 0.6001025159120718, 0.5937519096875338, 0.5946060245999704]\n",
      "type:  <class 'list'>\n",
      "Updating optimizer for experiment 298264388507862907309965493277379901365\n",
      "http optimizer is asking service for next trial experiment 298264388507862907309965493277379901365\n",
      "new trial index:  18\n",
      "query point:  [0.0, 0.14672716122107612, 0.5249303819770784, 0.3283424568018457, 9.514826672173186e-17]\n",
      "type query pt:  <class 'list'>\n",
      "RYB values tested: [0.0, 0.14672716122107612, 0.5249303819770784, 0.3283424568018457, 9.514826672173186e-17]\n",
      "RGB values observed: (90, 137, 209)\n",
      "color score:  [0.9574813172563946, 1.1666056995109737, 1.0233641215796112, 0.936549082006136, 1.109893989278076, 0.9303792432831786, 0.8934638132258192, 0.8139782267562309, 0.7663431442158656, 0.7588209960944692, 0.7107782285067438, 0.7048576440294805, 0.6981493634179633, 0.6585200047785787, 0.6204015764883167, 0.6001025159120718, 0.5937519096875338, 0.5946060245999704, 0.5929873412882476]\n",
      "type:  <class 'list'>\n",
      "Updating optimizer for experiment 298264388507862907309965493277379901365\n",
      "http optimizer is asking service for next trial experiment 298264388507862907309965493277379901365\n",
      "new trial index:  19\n",
      "query point:  [0.0, 0.14841272279452852, 0.5164323513626136, 0.33515492584285933, 2.960830728428136e-17]\n",
      "type query pt:  <class 'list'>\n",
      "RYB values tested: [0.0, 0.14841272279452852, 0.5164323513626136, 0.33515492584285933, 2.960830728428136e-17]\n",
      "RGB values observed: (93, 140, 208)\n",
      "color score:  [0.9574813172563946, 1.1666056995109737, 1.0233641215796112, 0.936549082006136, 1.109893989278076, 0.9303792432831786, 0.8934638132258192, 0.8139782267562309, 0.7663431442158656, 0.7588209960944692, 0.7107782285067438, 0.7048576440294805, 0.6981493634179633, 0.6585200047785787, 0.6204015764883167, 0.6001025159120718, 0.5937519096875338, 0.5946060245999704, 0.5929873412882476, 0.5918061550732824]\n",
      "type:  <class 'list'>\n",
      "Updating optimizer for experiment 298264388507862907309965493277379901365\n"
     ]
    }
   ],
   "source": [
    "RobRoss.run_campaign(25, None, None, None, None, None, starting_well = 0, save =True)"
   ]
  },
  {
   "cell_type": "markdown",
   "id": "fbac113f-a7d5-459f-9950-24eeca967d85",
   "metadata": {},
   "source": [
    "## Open the dashboard to view performance:\n",
    "\n",
    "1. From the root of the Jubilee_pipette_BOdemo repo, change directories into 'streamlit_dash'\n",
    "2. Run "
   ]
  },
  {
   "cell_type": "code",
   "execution_count": null,
   "id": "9db44738-9f08-4248-9b01-4717af790e10",
   "metadata": {},
   "outputs": [],
   "source": []
  }
 ],
 "metadata": {
  "kernelspec": {
   "display_name": "Python 3 (ipykernel)",
   "language": "python",
   "name": "python3"
  },
  "language_info": {
   "codemirror_mode": {
    "name": "ipython",
    "version": 3
   },
   "file_extension": ".py",
   "mimetype": "text/x-python",
   "name": "python",
   "nbconvert_exporter": "python",
   "pygments_lexer": "ipython3",
   "version": "3.11.9"
  }
 },
 "nbformat": 4,
 "nbformat_minor": 5
}
