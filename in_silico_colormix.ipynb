{
 "cells": [
  {
   "cell_type": "code",
   "execution_count": 1,
   "id": "564493b9-ad9d-4e68-94ea-b9b9212de296",
   "metadata": {},
   "outputs": [],
   "source": [
    "%load_ext autoreload\n",
    "%autoreload 2"
   ]
  },
  {
   "cell_type": "markdown",
   "id": "9de445d2-9fa5-4dad-b816-92dba61dfeb9",
   "metadata": {},
   "source": [
    "# In-silico color mix experiment\n",
    "\n",
    "This notebook walks through how to run an 'in-silico' color mixing experiment. This uses a simulated/calculated color mixing calculation to create and measure mixed colors instead of mixing and measuring them on Jubilee. This makes it easier and faster to experiment with the optimization details without getting stuck on Jubilee motion platform problems"
   ]
  },
  {
   "cell_type": "code",
   "execution_count": 2,
   "id": "9cf77fc8-e482-46f5-9c3b-4572c5e39613",
   "metadata": {},
   "outputs": [],
   "source": [
    "import cv2\n",
    "import numpy as np\n",
    "from PIL import Image\n",
    "\n",
    "from jubilee_pipette_bodemo.color_matcher import ColorMatcher\n",
    "from jubilee_pipette_bodemo.in_silico_mixing import synthetic_image\n",
    "import jubilee_pipette_bodemo.image_processing as image_processing\n",
    "\n",
    "import requests\n",
    "\n",
    "# ------ Data visualization outside of the notebook ------\n",
    "import matplotlib\n",
    "#matplotlib.use('Qt5Agg')\n",
    "\n",
    "import io\n",
    "\n",
    "import torch"
   ]
  },
  {
   "cell_type": "markdown",
   "id": "8ad11492-aa90-4ec6-af61-1be995998550",
   "metadata": {},
   "source": [
    "## Launch the bayesian optimization server \n",
    "\n",
    "This implementation uses my bo-serving package to serve a bayesian optimization service as an HTTP API endpoint. Everything to do this is configured within the color mixing code we use here. All that needs to be done is to start up the service:\n",
    "\n",
    "1. Clone the bo-serving repo: https://github.com/pozzo-research-group/bo-serving\n",
    "2. Install the bo-serving repo: from the root of the repo, run `pip install -e .`\n",
    "3. Change directories into 'src/bo_serving/botorch_serving'\n",
    "4. Run the command `flask --app serve_botorch run` to launch the server\n",
    "\n",
    "If step 4 ran correctly, you are all set!"
   ]
  },
  {
   "cell_type": "markdown",
   "id": "776302b7-5da0-497d-a27b-fc798c57c658",
   "metadata": {},
   "source": [
    "## Create the color matcher object\n",
    "\n",
    "This creates the 'ColorMatcher' object with the parameters we want to use for testing. Here, we are using 5 total stocks, a 'sample volume' of 300 (this is a carryover from the experimental color mixing and lets us use the same python code for both versions), a euclidean distance color score, simulated mixing, and the 5 colors in the 'in silico colors' list are the colors our experiment will use to mix."
   ]
  },
  {
   "cell_type": "code",
   "execution_count": 4,
   "id": "e55cb48b-73f2-40b1-95dc-1698fd92661b",
   "metadata": {},
   "outputs": [
    {
     "ename": "AssertionError",
     "evalue": "Error when creating new experiment on service. Error: b''",
     "output_type": "error",
     "traceback": [
      "\u001b[0;31m---------------------------------------------------------------------------\u001b[0m",
      "\u001b[0;31mAssertionError\u001b[0m                            Traceback (most recent call last)",
      "Cell \u001b[0;32mIn[4], line 1\u001b[0m\n\u001b[0;32m----> 1\u001b[0m RobRoss \u001b[38;5;241m=\u001b[39m \u001b[43mColorMatcher\u001b[49m\u001b[43m(\u001b[49m\u001b[38;5;241;43m5\u001b[39;49m\u001b[43m,\u001b[49m\u001b[43m \u001b[49m\u001b[43msample_volume\u001b[49m\u001b[38;5;241;43m=\u001b[39;49m\u001b[38;5;241;43m300\u001b[39;49m\u001b[43m,\u001b[49m\u001b[43m \u001b[49m\u001b[43mscore_type\u001b[49m\u001b[38;5;241;43m=\u001b[39;49m\u001b[38;5;124;43m'\u001b[39;49m\u001b[38;5;124;43meuclidean\u001b[39;49m\u001b[38;5;124;43m'\u001b[39;49m\u001b[43m,\u001b[49m\u001b[43m \u001b[49m\u001b[43min_silico_mixing\u001b[49m\u001b[43m \u001b[49m\u001b[38;5;241;43m=\u001b[39;49m\u001b[43m \u001b[49m\u001b[38;5;28;43;01mTrue\u001b[39;49;00m\u001b[43m,\u001b[49m\u001b[43m \u001b[49m\u001b[43min_silico_colors\u001b[49m\u001b[43m \u001b[49m\u001b[38;5;241;43m=\u001b[39;49m\u001b[43m \u001b[49m\u001b[43m[\u001b[49m\u001b[43m[\u001b[49m\u001b[38;5;241;43m255\u001b[39;49m\u001b[43m,\u001b[49m\u001b[43m \u001b[49m\u001b[38;5;241;43m0\u001b[39;49m\u001b[43m,\u001b[49m\u001b[43m \u001b[49m\u001b[38;5;241;43m0\u001b[39;49m\u001b[43m]\u001b[49m\u001b[43m,\u001b[49m\u001b[43m \u001b[49m\u001b[43m[\u001b[49m\u001b[38;5;241;43m255\u001b[39;49m\u001b[43m,\u001b[49m\u001b[43m \u001b[49m\u001b[38;5;241;43m255\u001b[39;49m\u001b[43m,\u001b[49m\u001b[43m \u001b[49m\u001b[38;5;241;43m0\u001b[39;49m\u001b[43m]\u001b[49m\u001b[43m,\u001b[49m\u001b[43m \u001b[49m\u001b[43m[\u001b[49m\u001b[38;5;241;43m0\u001b[39;49m\u001b[43m,\u001b[49m\u001b[38;5;241;43m0\u001b[39;49m\u001b[43m,\u001b[49m\u001b[38;5;241;43m255\u001b[39;49m\u001b[43m]\u001b[49m\u001b[43m,\u001b[49m\u001b[43m \u001b[49m\u001b[43m[\u001b[49m\u001b[38;5;241;43m255\u001b[39;49m\u001b[43m,\u001b[49m\u001b[38;5;241;43m255\u001b[39;49m\u001b[43m,\u001b[49m\u001b[38;5;241;43m255\u001b[39;49m\u001b[43m]\u001b[49m\u001b[43m,\u001b[49m\u001b[43m \u001b[49m\u001b[43m[\u001b[49m\u001b[38;5;241;43m0\u001b[39;49m\u001b[43m,\u001b[49m\u001b[38;5;241;43m0\u001b[39;49m\u001b[43m,\u001b[49m\u001b[38;5;241;43m0\u001b[39;49m\u001b[43m]\u001b[49m\u001b[43m]\u001b[49m\u001b[43m,\u001b[49m\u001b[43m \u001b[49m\u001b[43mn_random_its\u001b[49m\u001b[38;5;241;43m=\u001b[39;49m\u001b[38;5;241;43m5\u001b[39;49m\u001b[43m,\u001b[49m\u001b[43m \u001b[49m\u001b[43mn_bo_its\u001b[49m\u001b[38;5;241;43m=\u001b[39;49m\u001b[38;5;241;43m20\u001b[39;49m\u001b[43m)\u001b[49m\n",
      "File \u001b[0;32m~/Code/jubilee_pipette_BOdemo/src/jubilee_pipette_bodemo/color_matcher.py:45\u001b[0m, in \u001b[0;36mColorMatcher.__init__\u001b[0;34m(self, total_stocks, sample_volume, score_type, task, n_random_its, n_bo_its, in_silico_mixing, in_silico_colors, http_url)\u001b[0m\n\u001b[1;32m     42\u001b[0m \u001b[38;5;66;03m# Initialize optimizer\u001b[39;00m\n\u001b[1;32m     43\u001b[0m \u001b[38;5;66;03m#self.optimizer = BaysOptimizer([(0,1.0)] * self.nstocks, 1, task = 'minimize')\u001b[39;00m\n\u001b[1;32m     44\u001b[0m \u001b[38;5;28mself\u001b[39m\u001b[38;5;241m.\u001b[39mhttpoptimizer \u001b[38;5;241m=\u001b[39m \u001b[38;5;28;01mTrue\u001b[39;00m\n\u001b[0;32m---> 45\u001b[0m \u001b[38;5;28mself\u001b[39m\u001b[38;5;241m.\u001b[39moptimizer \u001b[38;5;241m=\u001b[39m \u001b[43mHTTPOptimizer\u001b[49m\u001b[43m(\u001b[49m\u001b[43mtotal_stocks\u001b[49m\u001b[43m,\u001b[49m\u001b[43m \u001b[49m\u001b[43mn_random_its\u001b[49m\u001b[43m,\u001b[49m\u001b[43m \u001b[49m\u001b[43mn_bo_its\u001b[49m\u001b[43m,\u001b[49m\u001b[43m \u001b[49m\u001b[43mhttp_url\u001b[49m\u001b[43m)\u001b[49m\n\u001b[1;32m     46\u001b[0m \u001b[38;5;28mself\u001b[39m\u001b[38;5;241m.\u001b[39mmodel \u001b[38;5;241m=\u001b[39m \u001b[38;5;28;01mNone\u001b[39;00m\n\u001b[1;32m     47\u001b[0m \u001b[38;5;28mself\u001b[39m\u001b[38;5;241m.\u001b[39min_silico_mixing \u001b[38;5;241m=\u001b[39m in_silico_mixing\n",
      "File \u001b[0;32m~/Code/jubilee_pipette_BOdemo/src/jubilee_pipette_bodemo/http_optimizer.py:21\u001b[0m, in \u001b[0;36mHTTPOptimizer.__init__\u001b[0;34m(self, n_params, n_random_trials, n_bo_trials, url)\u001b[0m\n\u001b[1;32m     17\u001b[0m \u001b[38;5;28mself\u001b[39m\u001b[38;5;241m.\u001b[39mmetric \u001b[38;5;241m=\u001b[39m \u001b[38;5;124m'\u001b[39m\u001b[38;5;124meuclidean\u001b[39m\u001b[38;5;124m'\u001b[39m\n\u001b[1;32m     19\u001b[0m init_response \u001b[38;5;241m=\u001b[39m requests\u001b[38;5;241m.\u001b[39mpost(url \u001b[38;5;241m+\u001b[39m \u001b[38;5;124m'\u001b[39m\u001b[38;5;124m/new_experiment\u001b[39m\u001b[38;5;124m'\u001b[39m, json \u001b[38;5;241m=\u001b[39m {\u001b[38;5;124m'\u001b[39m\u001b[38;5;124mn_params\u001b[39m\u001b[38;5;124m'\u001b[39m:\u001b[38;5;28mself\u001b[39m\u001b[38;5;241m.\u001b[39mn_params, \u001b[38;5;124m'\u001b[39m\u001b[38;5;124mn_random_trials\u001b[39m\u001b[38;5;124m'\u001b[39m:\u001b[38;5;28mself\u001b[39m\u001b[38;5;241m.\u001b[39mn_random_trials, \u001b[38;5;124m'\u001b[39m\u001b[38;5;124mn_bo_trials\u001b[39m\u001b[38;5;124m'\u001b[39m:\u001b[38;5;28mself\u001b[39m\u001b[38;5;241m.\u001b[39mn_bo_trials})\n\u001b[0;32m---> 21\u001b[0m \u001b[38;5;28;01massert\u001b[39;00m init_response\u001b[38;5;241m.\u001b[39mstatus_code \u001b[38;5;241m==\u001b[39m \u001b[38;5;241m200\u001b[39m, \u001b[38;5;124mf\u001b[39m\u001b[38;5;124m'\u001b[39m\u001b[38;5;124mError when creating new experiment on service. Error: \u001b[39m\u001b[38;5;132;01m{\u001b[39;00minit_response\u001b[38;5;241m.\u001b[39mcontent\u001b[38;5;132;01m}\u001b[39;00m\u001b[38;5;124m'\u001b[39m\n\u001b[1;32m     22\u001b[0m \u001b[38;5;28mself\u001b[39m\u001b[38;5;241m.\u001b[39muuid \u001b[38;5;241m=\u001b[39m init_response\u001b[38;5;241m.\u001b[39mjson()[\u001b[38;5;124m'\u001b[39m\u001b[38;5;124muuid\u001b[39m\u001b[38;5;124m'\u001b[39m]\n",
      "\u001b[0;31mAssertionError\u001b[0m: Error when creating new experiment on service. Error: b''"
     ]
    }
   ],
   "source": [
    "RobRoss = ColorMatcher(5, sample_volume=300, score_type='euclidean', in_silico_mixing = True, in_silico_colors = [[255, 0, 0], [255, 255, 0], [0,0,255], [255,255,255], [0,0,0]], n_random_its=5, n_bo_its=20)"
   ]
  },
  {
   "cell_type": "markdown",
   "id": "8379b034-87ef-49aa-ba91-1a81676ead77",
   "metadata": {},
   "source": [
    "## Pick a color\n",
    "\n",
    "You need to click on the blue box and select a target color for the selection to register correctly as an RGB value"
   ]
  },
  {
   "cell_type": "code",
   "execution_count": 4,
   "id": "76df76bf-d2b5-49e4-a9ca-ead37dadba9c",
   "metadata": {},
   "outputs": [
    {
     "data": {
      "application/vnd.jupyter.widget-view+json": {
       "model_id": "c8a12f9079754d22bdfc983800b17367",
       "version_major": 2,
       "version_minor": 0
      },
      "text/plain": [
       "ColorPicker(value='blue', description='Pick a color')"
      ]
     },
     "metadata": {},
     "output_type": "display_data"
    }
   ],
   "source": [
    "target_color = RobRoss.select_target_color()"
   ]
  },
  {
   "cell_type": "markdown",
   "id": "52893dda-c5b6-4a1c-9e1a-ea493cd3e7cc",
   "metadata": {},
   "source": [
    "## Run the campaign\n",
    "\n",
    "This will run the experiment. The first number will determine the number of total experiments run. The first n_random_its experiments (specified when we created the RobRoss object) will be run with random sample selection, and the rest will use bayesian optimization."
   ]
  },
  {
   "cell_type": "code",
   "execution_count": 6,
   "id": "727ed4b6-6e8a-428c-a60f-82ca3faabdb2",
   "metadata": {
    "scrolled": true
   },
   "outputs": [
    {
     "name": "stderr",
     "output_type": "stream",
     "text": [
      "[autoreload of pandas._testing failed: Traceback (most recent call last):\n",
      "  File \"/Users/bgpelkie/miniconda3/envs/jubilee/lib/python3.9/site-packages/IPython/extensions/autoreload.py\", line 276, in check\n",
      "    superreload(m, reload, self.old_objects)\n",
      "  File \"/Users/bgpelkie/miniconda3/envs/jubilee/lib/python3.9/site-packages/IPython/extensions/autoreload.py\", line 475, in superreload\n",
      "    module = reload(module)\n",
      "  File \"/Users/bgpelkie/miniconda3/envs/jubilee/lib/python3.9/importlib/__init__.py\", line 169, in reload\n",
      "    _bootstrap._exec(spec, module)\n",
      "  File \"<frozen importlib._bootstrap>\", line 613, in _exec\n",
      "  File \"<frozen importlib._bootstrap_external>\", line 850, in exec_module\n",
      "  File \"<frozen importlib._bootstrap>\", line 228, in _call_with_frames_removed\n",
      "  File \"/Users/bgpelkie/miniconda3/envs/jubilee/lib/python3.9/site-packages/pandas/_testing/__init__.py\", line 404, in <module>\n",
      "    cython_table = pd.core.common._cython_table.items()\n",
      "AttributeError: module 'pandas.core' has no attribute 'common'\n",
      "]\n"
     ]
    },
    {
     "name": "stdout",
     "output_type": "stream",
     "text": [
      "http optimizer is asking service for next trial experiment 45833347461144490030626351351305553398\n"
     ]
    },
    {
     "ename": "AssertionError",
     "evalue": "Error when getting next trial, b''",
     "output_type": "error",
     "traceback": [
      "\u001b[0;31m---------------------------------------------------------------------------\u001b[0m",
      "\u001b[0;31mAssertionError\u001b[0m                            Traceback (most recent call last)",
      "Cell \u001b[0;32mIn[6], line 1\u001b[0m\n\u001b[0;32m----> 1\u001b[0m \u001b[43mRobRoss\u001b[49m\u001b[38;5;241;43m.\u001b[39;49m\u001b[43mrun_campaign\u001b[49m\u001b[43m(\u001b[49m\u001b[38;5;241;43m25\u001b[39;49m\u001b[43m,\u001b[49m\u001b[43m \u001b[49m\u001b[38;5;28;43;01mNone\u001b[39;49;00m\u001b[43m,\u001b[49m\u001b[43m \u001b[49m\u001b[38;5;28;43;01mNone\u001b[39;49;00m\u001b[43m,\u001b[49m\u001b[43m \u001b[49m\u001b[38;5;28;43;01mNone\u001b[39;49;00m\u001b[43m,\u001b[49m\u001b[43m \u001b[49m\u001b[38;5;28;43;01mNone\u001b[39;49;00m\u001b[43m,\u001b[49m\u001b[43m \u001b[49m\u001b[38;5;28;43;01mNone\u001b[39;49;00m\u001b[43m,\u001b[49m\u001b[43m \u001b[49m\u001b[43mstarting_well\u001b[49m\u001b[43m \u001b[49m\u001b[38;5;241;43m=\u001b[39;49m\u001b[43m \u001b[49m\u001b[38;5;241;43m0\u001b[39;49m\u001b[43m,\u001b[49m\u001b[43m \u001b[49m\u001b[43msave\u001b[49m\u001b[43m \u001b[49m\u001b[38;5;241;43m=\u001b[39;49m\u001b[38;5;28;43;01mTrue\u001b[39;49;00m\u001b[43m)\u001b[49m\n",
      "File \u001b[0;32m~/Code/jubilee_pipette_BOdemo/src/jubilee_pipette_bodemo/color_matcher.py:218\u001b[0m, in \u001b[0;36mColorMatcher.run_campaign\u001b[0;34m(self, number_of_iterations, robotic_platform, pipette, camera, color_stocks, samples, starting_well, save, saveToFile)\u001b[0m\n\u001b[1;32m    216\u001b[0m         query_point \u001b[38;5;241m=\u001b[39m \u001b[38;5;28mself\u001b[39m\u001b[38;5;241m.\u001b[39mpropose_next_sample()\n\u001b[1;32m    217\u001b[0m \u001b[38;5;28;01melse\u001b[39;00m:\n\u001b[0;32m--> 218\u001b[0m     query_point \u001b[38;5;241m=\u001b[39m \u001b[38;5;28;43mself\u001b[39;49m\u001b[38;5;241;43m.\u001b[39;49m\u001b[43mpropose_next_sample\u001b[49m\u001b[43m(\u001b[49m\u001b[43m)\u001b[49m\n\u001b[1;32m    221\u001b[0m \u001b[38;5;28mprint\u001b[39m(\u001b[38;5;124m'\u001b[39m\u001b[38;5;124mquery point: \u001b[39m\u001b[38;5;124m'\u001b[39m, query_point)\n\u001b[1;32m    222\u001b[0m \u001b[38;5;28mprint\u001b[39m(\u001b[38;5;124m'\u001b[39m\u001b[38;5;124mtype query pt: \u001b[39m\u001b[38;5;124m'\u001b[39m, \u001b[38;5;28mtype\u001b[39m(query_point))\n",
      "File \u001b[0;32m~/Code/jubilee_pipette_BOdemo/src/jubilee_pipette_bodemo/color_matcher.py:154\u001b[0m, in \u001b[0;36mColorMatcher.propose_next_sample\u001b[0;34m(self)\u001b[0m\n\u001b[1;32m    152\u001b[0m \u001b[38;5;28;01mdef\u001b[39;00m \u001b[38;5;21mpropose_next_sample\u001b[39m(\u001b[38;5;28mself\u001b[39m):\n\u001b[0;32m--> 154\u001b[0m     next_sample \u001b[38;5;241m=\u001b[39m \u001b[38;5;28;43mself\u001b[39;49m\u001b[38;5;241;43m.\u001b[39;49m\u001b[43moptimizer\u001b[49m\u001b[38;5;241;43m.\u001b[39;49m\u001b[43mask\u001b[49m\u001b[43m(\u001b[49m\u001b[43m)\u001b[49m\n\u001b[1;32m    156\u001b[0m     \u001b[38;5;28;01mreturn\u001b[39;00m next_sample\n",
      "File \u001b[0;32m~/Code/jubilee_pipette_BOdemo/src/jubilee_pipette_bodemo/http_optimizer.py:30\u001b[0m, in \u001b[0;36mHTTPOptimizer.ask\u001b[0;34m(self)\u001b[0m\n\u001b[1;32m     27\u001b[0m \u001b[38;5;28mprint\u001b[39m(\u001b[38;5;124mf\u001b[39m\u001b[38;5;124m'\u001b[39m\u001b[38;5;124mhttp optimizer is asking service for next trial experiment \u001b[39m\u001b[38;5;132;01m{\u001b[39;00m\u001b[38;5;28mself\u001b[39m\u001b[38;5;241m.\u001b[39muuid\u001b[38;5;132;01m}\u001b[39;00m\u001b[38;5;124m'\u001b[39m)\n\u001b[1;32m     28\u001b[0m response \u001b[38;5;241m=\u001b[39m requests\u001b[38;5;241m.\u001b[39mpost(\u001b[38;5;28mself\u001b[39m\u001b[38;5;241m.\u001b[39murl\u001b[38;5;241m+\u001b[39m\u001b[38;5;124m'\u001b[39m\u001b[38;5;124m/get_next_trial\u001b[39m\u001b[38;5;124m'\u001b[39m, json \u001b[38;5;241m=\u001b[39m {\u001b[38;5;124m'\u001b[39m\u001b[38;5;124muuid\u001b[39m\u001b[38;5;124m'\u001b[39m:\u001b[38;5;28mself\u001b[39m\u001b[38;5;241m.\u001b[39muuid}, timeout\u001b[38;5;241m=\u001b[39m\u001b[38;5;241m60\u001b[39m)\n\u001b[0;32m---> 30\u001b[0m \u001b[38;5;28;01massert\u001b[39;00m response\u001b[38;5;241m.\u001b[39mstatus_code \u001b[38;5;241m==\u001b[39m \u001b[38;5;241m200\u001b[39m, \u001b[38;5;124mf\u001b[39m\u001b[38;5;124m'\u001b[39m\u001b[38;5;124mError when getting next trial, \u001b[39m\u001b[38;5;132;01m{\u001b[39;00mresponse\u001b[38;5;241m.\u001b[39mcontent\u001b[38;5;132;01m}\u001b[39;00m\u001b[38;5;124m'\u001b[39m\n\u001b[1;32m     32\u001b[0m next_experiment \u001b[38;5;241m=\u001b[39m response\u001b[38;5;241m.\u001b[39mjson()\n\u001b[1;32m     34\u001b[0m \u001b[38;5;28mself\u001b[39m\u001b[38;5;241m.\u001b[39mopen_trial_index \u001b[38;5;241m=\u001b[39m next_experiment[\u001b[38;5;124m'\u001b[39m\u001b[38;5;124mtrial_index\u001b[39m\u001b[38;5;124m'\u001b[39m]\n",
      "\u001b[0;31mAssertionError\u001b[0m: Error when getting next trial, b''"
     ]
    },
    {
     "data": {
      "image/png": "[encoded data removed]",
      "text/plain": [
       "<Figure size 2000x800 with 2 Axes>"
      ]
     },
     "metadata": {},
     "output_type": "display_data"
    }
   ],
   "source": [
    "RobRoss.run_campaign(25, None, None, None, None, None, starting_well = 0, save =True)"
   ]
  },
  {
   "cell_type": "markdown",
   "id": "fbac113f-a7d5-459f-9950-24eeca967d85",
   "metadata": {},
   "source": [
    "## Open the dashboard to view performance:\n",
    "\n",
    "1. From the root of the Jubilee_pipette_BOdemo repo, change directories into 'streamlit_dash'\n",
    "2. Run "
   ]
  }
 ],
 "metadata": {
  "kernelspec": {
   "display_name": "Python 3 (ipykernel)",
   "language": "python",
   "name": "python3"
  },
  "language_info": {
   "codemirror_mode": {
    "name": "ipython",
    "version": 3
   },
   "file_extension": ".py",
   "mimetype": "text/x-python",
   "name": "python",
   "nbconvert_exporter": "python",
   "pygments_lexer": "ipython3",
   "version": "3.9.19"
  }
 },
 "nbformat": 4,
 "nbformat_minor": 5
}
